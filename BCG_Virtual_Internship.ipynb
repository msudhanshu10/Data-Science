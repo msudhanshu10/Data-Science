{
  "nbformat": 4,
  "nbformat_minor": 0,
  "metadata": {
    "colab": {
      "name": "BCG_Virtual Internship.ipynb",
      "provenance": [],
      "collapsed_sections": [],
      "authorship_tag": "ABX9TyMOY0JAdRiuFicp1MOG5gU6",
      "include_colab_link": true
    },
    "kernelspec": {
      "name": "python3",
      "display_name": "Python 3"
    }
  },
  "cells": [
    {
      "cell_type": "markdown",
      "metadata": {
        "id": "view-in-github",
        "colab_type": "text"
      },
      "source": [
        "<a href=\"https://colab.research.google.com/github/msudhanshu10/Data-Science/blob/master/BCG_Virtual_Internship.ipynb\" target=\"_parent\"><img src=\"https://colab.research.google.com/assets/colab-badge.svg\" alt=\"Open In Colab\"/></a>"
      ]
    },
    {
      "cell_type": "markdown",
      "metadata": {
        "id": "5J9BM0ms1vkV"
      },
      "source": [
        "# 0. Load libraries"
      ]
    },
    {
      "cell_type": "code",
      "metadata": {
        "id": "3merP1cC10S4"
      },
      "source": [
        "import pandas as pd\r\n",
        "import numpy as np\r\n",
        "import matplotlib.pyplot as plt\r\n",
        "import seaborn as sns\r\n",
        "%matplotlib inline"
      ],
      "execution_count": null,
      "outputs": []
    },
    {
      "cell_type": "markdown",
      "metadata": {
        "id": "DOmIAeHX1nw0"
      },
      "source": [
        "# 1. Load data set"
      ]
    },
    {
      "cell_type": "code",
      "metadata": {
        "colab": {
          "resources": {
            "http://localhost:8080/nbextensions/google.colab/files.js": {
              "data": "Ly8gQ29weXJpZ2h0IDIwMTcgR29vZ2xlIExMQwovLwovLyBMaWNlbnNlZCB1bmRlciB0aGUgQXBhY2hlIExpY2Vuc2UsIFZlcnNpb24gMi4wICh0aGUgIkxpY2Vuc2UiKTsKLy8geW91IG1heSBub3QgdXNlIHRoaXMgZmlsZSBleGNlcHQgaW4gY29tcGxpYW5jZSB3aXRoIHRoZSBMaWNlbnNlLgovLyBZb3UgbWF5IG9idGFpbiBhIGNvcHkgb2YgdGhlIExpY2Vuc2UgYXQKLy8KLy8gICAgICBodHRwOi8vd3d3LmFwYWNoZS5vcmcvbGljZW5zZXMvTElDRU5TRS0yLjAKLy8KLy8gVW5sZXNzIHJlcXVpcmVkIGJ5IGFwcGxpY2FibGUgbGF3IG9yIGFncmVlZCB0byBpbiB3cml0aW5nLCBzb2Z0d2FyZQovLyBkaXN0cmlidXRlZCB1bmRlciB0aGUgTGljZW5zZSBpcyBkaXN0cmlidXRlZCBvbiBhbiAiQVMgSVMiIEJBU0lTLAovLyBXSVRIT1VUIFdBUlJBTlRJRVMgT1IgQ09ORElUSU9OUyBPRiBBTlkgS0lORCwgZWl0aGVyIGV4cHJlc3Mgb3IgaW1wbGllZC4KLy8gU2VlIHRoZSBMaWNlbnNlIGZvciB0aGUgc3BlY2lmaWMgbGFuZ3VhZ2UgZ292ZXJuaW5nIHBlcm1pc3Npb25zIGFuZAovLyBsaW1pdGF0aW9ucyB1bmRlciB0aGUgTGljZW5zZS4KCi8qKgogKiBAZmlsZW92ZXJ2aWV3IEhlbHBlcnMgZm9yIGdvb2dsZS5jb2xhYiBQeXRob24gbW9kdWxlLgogKi8KKGZ1bmN0aW9uKHNjb3BlKSB7CmZ1bmN0aW9uIHNwYW4odGV4dCwgc3R5bGVBdHRyaWJ1dGVzID0ge30pIHsKICBjb25zdCBlbGVtZW50ID0gZG9jdW1lbnQuY3JlYXRlRWxlbWVudCgnc3BhbicpOwogIGVsZW1lbnQudGV4dENvbnRlbnQgPSB0ZXh0OwogIGZvciAoY29uc3Qga2V5IG9mIE9iamVjdC5rZXlzKHN0eWxlQXR0cmlidXRlcykpIHsKICAgIGVsZW1lbnQuc3R5bGVba2V5XSA9IHN0eWxlQXR0cmlidXRlc1trZXldOwogIH0KICByZXR1cm4gZWxlbWVudDsKfQoKLy8gTWF4IG51bWJlciBvZiBieXRlcyB3aGljaCB3aWxsIGJlIHVwbG9hZGVkIGF0IGEgdGltZS4KY29uc3QgTUFYX1BBWUxPQURfU0laRSA9IDEwMCAqIDEwMjQ7CgpmdW5jdGlvbiBfdXBsb2FkRmlsZXMoaW5wdXRJZCwgb3V0cHV0SWQpIHsKICBjb25zdCBzdGVwcyA9IHVwbG9hZEZpbGVzU3RlcChpbnB1dElkLCBvdXRwdXRJZCk7CiAgY29uc3Qgb3V0cHV0RWxlbWVudCA9IGRvY3VtZW50LmdldEVsZW1lbnRCeUlkKG91dHB1dElkKTsKICAvLyBDYWNoZSBzdGVwcyBvbiB0aGUgb3V0cHV0RWxlbWVudCB0byBtYWtlIGl0IGF2YWlsYWJsZSBmb3IgdGhlIG5leHQgY2FsbAogIC8vIHRvIHVwbG9hZEZpbGVzQ29udGludWUgZnJvbSBQeXRob24uCiAgb3V0cHV0RWxlbWVudC5zdGVwcyA9IHN0ZXBzOwoKICByZXR1cm4gX3VwbG9hZEZpbGVzQ29udGludWUob3V0cHV0SWQpOwp9CgovLyBUaGlzIGlzIHJvdWdobHkgYW4gYXN5bmMgZ2VuZXJhdG9yIChub3Qgc3VwcG9ydGVkIGluIHRoZSBicm93c2VyIHlldCksCi8vIHdoZXJlIHRoZXJlIGFyZSBtdWx0aXBsZSBhc3luY2hyb25vdXMgc3RlcHMgYW5kIHRoZSBQeXRob24gc2lkZSBpcyBnb2luZwovLyB0byBwb2xsIGZvciBjb21wbGV0aW9uIG9mIGVhY2ggc3RlcC4KLy8gVGhpcyB1c2VzIGEgUHJvbWlzZSB0byBibG9jayB0aGUgcHl0aG9uIHNpZGUgb24gY29tcGxldGlvbiBvZiBlYWNoIHN0ZXAsCi8vIHRoZW4gcGFzc2VzIHRoZSByZXN1bHQgb2YgdGhlIHByZXZpb3VzIHN0ZXAgYXMgdGhlIGlucHV0IHRvIHRoZSBuZXh0IHN0ZXAuCmZ1bmN0aW9uIF91cGxvYWRGaWxlc0NvbnRpbnVlKG91dHB1dElkKSB7CiAgY29uc3Qgb3V0cHV0RWxlbWVudCA9IGRvY3VtZW50LmdldEVsZW1lbnRCeUlkKG91dHB1dElkKTsKICBjb25zdCBzdGVwcyA9IG91dHB1dEVsZW1lbnQuc3RlcHM7CgogIGNvbnN0IG5leHQgPSBzdGVwcy5uZXh0KG91dHB1dEVsZW1lbnQubGFzdFByb21pc2VWYWx1ZSk7CiAgcmV0dXJuIFByb21pc2UucmVzb2x2ZShuZXh0LnZhbHVlLnByb21pc2UpLnRoZW4oKHZhbHVlKSA9PiB7CiAgICAvLyBDYWNoZSB0aGUgbGFzdCBwcm9taXNlIHZhbHVlIHRvIG1ha2UgaXQgYXZhaWxhYmxlIHRvIHRoZSBuZXh0CiAgICAvLyBzdGVwIG9mIHRoZSBnZW5lcmF0b3IuCiAgICBvdXRwdXRFbGVtZW50Lmxhc3RQcm9taXNlVmFsdWUgPSB2YWx1ZTsKICAgIHJldHVybiBuZXh0LnZhbHVlLnJlc3BvbnNlOwogIH0pOwp9CgovKioKICogR2VuZXJhdG9yIGZ1bmN0aW9uIHdoaWNoIGlzIGNhbGxlZCBiZXR3ZWVuIGVhY2ggYXN5bmMgc3RlcCBvZiB0aGUgdXBsb2FkCiAqIHByb2Nlc3MuCiAqIEBwYXJhbSB7c3RyaW5nfSBpbnB1dElkIEVsZW1lbnQgSUQgb2YgdGhlIGlucHV0IGZpbGUgcGlja2VyIGVsZW1lbnQuCiAqIEBwYXJhbSB7c3RyaW5nfSBvdXRwdXRJZCBFbGVtZW50IElEIG9mIHRoZSBvdXRwdXQgZGlzcGxheS4KICogQHJldHVybiB7IUl0ZXJhYmxlPCFPYmplY3Q+fSBJdGVyYWJsZSBvZiBuZXh0IHN0ZXBzLgogKi8KZnVuY3Rpb24qIHVwbG9hZEZpbGVzU3RlcChpbnB1dElkLCBvdXRwdXRJZCkgewogIGNvbnN0IGlucHV0RWxlbWVudCA9IGRvY3VtZW50LmdldEVsZW1lbnRCeUlkKGlucHV0SWQpOwogIGlucHV0RWxlbWVudC5kaXNhYmxlZCA9IGZhbHNlOwoKICBjb25zdCBvdXRwdXRFbGVtZW50ID0gZG9jdW1lbnQuZ2V0RWxlbWVudEJ5SWQob3V0cHV0SWQpOwogIG91dHB1dEVsZW1lbnQuaW5uZXJIVE1MID0gJyc7CgogIGNvbnN0IHBpY2tlZFByb21pc2UgPSBuZXcgUHJvbWlzZSgocmVzb2x2ZSkgPT4gewogICAgaW5wdXRFbGVtZW50LmFkZEV2ZW50TGlzdGVuZXIoJ2NoYW5nZScsIChlKSA9PiB7CiAgICAgIHJlc29sdmUoZS50YXJnZXQuZmlsZXMpOwogICAgfSk7CiAgfSk7CgogIGNvbnN0IGNhbmNlbCA9IGRvY3VtZW50LmNyZWF0ZUVsZW1lbnQoJ2J1dHRvbicpOwogIGlucHV0RWxlbWVudC5wYXJlbnRFbGVtZW50LmFwcGVuZENoaWxkKGNhbmNlbCk7CiAgY2FuY2VsLnRleHRDb250ZW50ID0gJ0NhbmNlbCB1cGxvYWQnOwogIGNvbnN0IGNhbmNlbFByb21pc2UgPSBuZXcgUHJvbWlzZSgocmVzb2x2ZSkgPT4gewogICAgY2FuY2VsLm9uY2xpY2sgPSAoKSA9PiB7CiAgICAgIHJlc29sdmUobnVsbCk7CiAgICB9OwogIH0pOwoKICAvLyBXYWl0IGZvciB0aGUgdXNlciB0byBwaWNrIHRoZSBmaWxlcy4KICBjb25zdCBmaWxlcyA9IHlpZWxkIHsKICAgIHByb21pc2U6IFByb21pc2UucmFjZShbcGlja2VkUHJvbWlzZSwgY2FuY2VsUHJvbWlzZV0pLAogICAgcmVzcG9uc2U6IHsKICAgICAgYWN0aW9uOiAnc3RhcnRpbmcnLAogICAgfQogIH07CgogIGNhbmNlbC5yZW1vdmUoKTsKCiAgLy8gRGlzYWJsZSB0aGUgaW5wdXQgZWxlbWVudCBzaW5jZSBmdXJ0aGVyIHBpY2tzIGFyZSBub3QgYWxsb3dlZC4KICBpbnB1dEVsZW1lbnQuZGlzYWJsZWQgPSB0cnVlOwoKICBpZiAoIWZpbGVzKSB7CiAgICByZXR1cm4gewogICAgICByZXNwb25zZTogewogICAgICAgIGFjdGlvbjogJ2NvbXBsZXRlJywKICAgICAgfQogICAgfTsKICB9CgogIGZvciAoY29uc3QgZmlsZSBvZiBmaWxlcykgewogICAgY29uc3QgbGkgPSBkb2N1bWVudC5jcmVhdGVFbGVtZW50KCdsaScpOwogICAgbGkuYXBwZW5kKHNwYW4oZmlsZS5uYW1lLCB7Zm9udFdlaWdodDogJ2JvbGQnfSkpOwogICAgbGkuYXBwZW5kKHNwYW4oCiAgICAgICAgYCgke2ZpbGUudHlwZSB8fCAnbi9hJ30pIC0gJHtmaWxlLnNpemV9IGJ5dGVzLCBgICsKICAgICAgICBgbGFzdCBtb2RpZmllZDogJHsKICAgICAgICAgICAgZmlsZS5sYXN0TW9kaWZpZWREYXRlID8gZmlsZS5sYXN0TW9kaWZpZWREYXRlLnRvTG9jYWxlRGF0ZVN0cmluZygpIDoKICAgICAgICAgICAgICAgICAgICAgICAgICAgICAgICAgICAgJ24vYSd9IC0gYCkpOwogICAgY29uc3QgcGVyY2VudCA9IHNwYW4oJzAlIGRvbmUnKTsKICAgIGxpLmFwcGVuZENoaWxkKHBlcmNlbnQpOwoKICAgIG91dHB1dEVsZW1lbnQuYXBwZW5kQ2hpbGQobGkpOwoKICAgIGNvbnN0IGZpbGVEYXRhUHJvbWlzZSA9IG5ldyBQcm9taXNlKChyZXNvbHZlKSA9PiB7CiAgICAgIGNvbnN0IHJlYWRlciA9IG5ldyBGaWxlUmVhZGVyKCk7CiAgICAgIHJlYWRlci5vbmxvYWQgPSAoZSkgPT4gewogICAgICAgIHJlc29sdmUoZS50YXJnZXQucmVzdWx0KTsKICAgICAgfTsKICAgICAgcmVhZGVyLnJlYWRBc0FycmF5QnVmZmVyKGZpbGUpOwogICAgfSk7CiAgICAvLyBXYWl0IGZvciB0aGUgZGF0YSB0byBiZSByZWFkeS4KICAgIGxldCBmaWxlRGF0YSA9IHlpZWxkIHsKICAgICAgcHJvbWlzZTogZmlsZURhdGFQcm9taXNlLAogICAgICByZXNwb25zZTogewogICAgICAgIGFjdGlvbjogJ2NvbnRpbnVlJywKICAgICAgfQogICAgfTsKCiAgICAvLyBVc2UgYSBjaHVua2VkIHNlbmRpbmcgdG8gYXZvaWQgbWVzc2FnZSBzaXplIGxpbWl0cy4gU2VlIGIvNjIxMTU2NjAuCiAgICBsZXQgcG9zaXRpb24gPSAwOwogICAgd2hpbGUgKHBvc2l0aW9uIDwgZmlsZURhdGEuYnl0ZUxlbmd0aCkgewogICAgICBjb25zdCBsZW5ndGggPSBNYXRoLm1pbihmaWxlRGF0YS5ieXRlTGVuZ3RoIC0gcG9zaXRpb24sIE1BWF9QQVlMT0FEX1NJWkUpOwogICAgICBjb25zdCBjaHVuayA9IG5ldyBVaW50OEFycmF5KGZpbGVEYXRhLCBwb3NpdGlvbiwgbGVuZ3RoKTsKICAgICAgcG9zaXRpb24gKz0gbGVuZ3RoOwoKICAgICAgY29uc3QgYmFzZTY0ID0gYnRvYShTdHJpbmcuZnJvbUNoYXJDb2RlLmFwcGx5KG51bGwsIGNodW5rKSk7CiAgICAgIHlpZWxkIHsKICAgICAgICByZXNwb25zZTogewogICAgICAgICAgYWN0aW9uOiAnYXBwZW5kJywKICAgICAgICAgIGZpbGU6IGZpbGUubmFtZSwKICAgICAgICAgIGRhdGE6IGJhc2U2NCwKICAgICAgICB9LAogICAgICB9OwogICAgICBwZXJjZW50LnRleHRDb250ZW50ID0KICAgICAgICAgIGAke01hdGgucm91bmQoKHBvc2l0aW9uIC8gZmlsZURhdGEuYnl0ZUxlbmd0aCkgKiAxMDApfSUgZG9uZWA7CiAgICB9CiAgfQoKICAvLyBBbGwgZG9uZS4KICB5aWVsZCB7CiAgICByZXNwb25zZTogewogICAgICBhY3Rpb246ICdjb21wbGV0ZScsCiAgICB9CiAgfTsKfQoKc2NvcGUuZ29vZ2xlID0gc2NvcGUuZ29vZ2xlIHx8IHt9OwpzY29wZS5nb29nbGUuY29sYWIgPSBzY29wZS5nb29nbGUuY29sYWIgfHwge307CnNjb3BlLmdvb2dsZS5jb2xhYi5fZmlsZXMgPSB7CiAgX3VwbG9hZEZpbGVzLAogIF91cGxvYWRGaWxlc0NvbnRpbnVlLAp9Owp9KShzZWxmKTsK",
              "ok": true,
              "headers": [
                [
                  "content-type",
                  "application/javascript"
                ]
              ],
              "status": 200,
              "status_text": ""
            }
          },
          "base_uri": "https://localhost:8080/",
          "height": 140
        },
        "id": "d67ZiYX4vjlz",
        "outputId": "18cd74ce-d4f2-4265-8d44-891b7b5a85e3"
      },
      "source": [
        "from google.colab import files\r\n",
        "uploaded= files.upload()"
      ],
      "execution_count": null,
      "outputs": [
        {
          "output_type": "display_data",
          "data": {
            "text/html": [
              "\n",
              "     <input type=\"file\" id=\"files-ad9d7861-adc2-475f-9e5e-5392d7639f13\" name=\"files[]\" multiple disabled\n",
              "        style=\"border:none\" />\n",
              "     <output id=\"result-ad9d7861-adc2-475f-9e5e-5392d7639f13\">\n",
              "      Upload widget is only available when the cell has been executed in the\n",
              "      current browser session. Please rerun this cell to enable.\n",
              "      </output>\n",
              "      <script src=\"/nbextensions/google.colab/files.js\"></script> "
            ],
            "text/plain": [
              "<IPython.core.display.HTML object>"
            ]
          },
          "metadata": {
            "tags": []
          }
        },
        {
          "output_type": "stream",
          "text": [
            "Saving ml_case_training_data.csv to ml_case_training_data.csv\n",
            "Saving ml_case_training_hist_data.csv to ml_case_training_hist_data.csv\n",
            "Saving ml_case_training_output.csv to ml_case_training_output.csv\n"
          ],
          "name": "stdout"
        }
      ]
    },
    {
      "cell_type": "code",
      "metadata": {
        "id": "ebAtwoh42RtT"
      },
      "source": [
        "df1= pd.read_csv('ml_case_training_data.csv')\r\n",
        "df2= pd.read_csv('ml_case_training_hist_data.csv')\r\n",
        "df3= pd.read_csv('ml_case_training_output.csv')"
      ],
      "execution_count": null,
      "outputs": []
    },
    {
      "cell_type": "code",
      "metadata": {
        "id": "3T9ou8uf339R",
        "colab": {
          "base_uri": "https://localhost:8080/",
          "height": 309
        },
        "outputId": "ffd98e03-9b2d-4348-e663-6374909b054d"
      },
      "source": [
        "df1.head()"
      ],
      "execution_count": null,
      "outputs": [
        {
          "output_type": "execute_result",
          "data": {
            "text/html": [
              "<div>\n",
              "<style scoped>\n",
              "    .dataframe tbody tr th:only-of-type {\n",
              "        vertical-align: middle;\n",
              "    }\n",
              "\n",
              "    .dataframe tbody tr th {\n",
              "        vertical-align: top;\n",
              "    }\n",
              "\n",
              "    .dataframe thead th {\n",
              "        text-align: right;\n",
              "    }\n",
              "</style>\n",
              "<table border=\"1\" class=\"dataframe\">\n",
              "  <thead>\n",
              "    <tr style=\"text-align: right;\">\n",
              "      <th></th>\n",
              "      <th>id</th>\n",
              "      <th>activity_new</th>\n",
              "      <th>campaign_disc_ele</th>\n",
              "      <th>channel_sales</th>\n",
              "      <th>cons_12m</th>\n",
              "      <th>cons_gas_12m</th>\n",
              "      <th>cons_last_month</th>\n",
              "      <th>date_activ</th>\n",
              "      <th>date_end</th>\n",
              "      <th>date_first_activ</th>\n",
              "      <th>date_modif_prod</th>\n",
              "      <th>date_renewal</th>\n",
              "      <th>forecast_base_bill_ele</th>\n",
              "      <th>forecast_base_bill_year</th>\n",
              "      <th>forecast_bill_12m</th>\n",
              "      <th>forecast_cons</th>\n",
              "      <th>forecast_cons_12m</th>\n",
              "      <th>forecast_cons_year</th>\n",
              "      <th>forecast_discount_energy</th>\n",
              "      <th>forecast_meter_rent_12m</th>\n",
              "      <th>forecast_price_energy_p1</th>\n",
              "      <th>forecast_price_energy_p2</th>\n",
              "      <th>forecast_price_pow_p1</th>\n",
              "      <th>has_gas</th>\n",
              "      <th>imp_cons</th>\n",
              "      <th>margin_gross_pow_ele</th>\n",
              "      <th>margin_net_pow_ele</th>\n",
              "      <th>nb_prod_act</th>\n",
              "      <th>net_margin</th>\n",
              "      <th>num_years_antig</th>\n",
              "      <th>origin_up</th>\n",
              "      <th>pow_max</th>\n",
              "    </tr>\n",
              "  </thead>\n",
              "  <tbody>\n",
              "    <tr>\n",
              "      <th>0</th>\n",
              "      <td>48ada52261e7cf58715202705a0451c9</td>\n",
              "      <td>esoiiifxdlbkcsluxmfuacbdckommixw</td>\n",
              "      <td>NaN</td>\n",
              "      <td>lmkebamcaaclubfxadlmueccxoimlema</td>\n",
              "      <td>309275</td>\n",
              "      <td>0</td>\n",
              "      <td>10025</td>\n",
              "      <td>2012-11-07</td>\n",
              "      <td>2016-11-06</td>\n",
              "      <td>NaN</td>\n",
              "      <td>2012-11-07</td>\n",
              "      <td>2015-11-09</td>\n",
              "      <td>NaN</td>\n",
              "      <td>NaN</td>\n",
              "      <td>NaN</td>\n",
              "      <td>NaN</td>\n",
              "      <td>26520.30</td>\n",
              "      <td>10025</td>\n",
              "      <td>0.0</td>\n",
              "      <td>359.29</td>\n",
              "      <td>0.095919</td>\n",
              "      <td>0.088347</td>\n",
              "      <td>58.995952</td>\n",
              "      <td>f</td>\n",
              "      <td>831.8</td>\n",
              "      <td>-41.76</td>\n",
              "      <td>-41.76</td>\n",
              "      <td>1</td>\n",
              "      <td>1732.36</td>\n",
              "      <td>3</td>\n",
              "      <td>ldkssxwpmemidmecebumciepifcamkci</td>\n",
              "      <td>180.000</td>\n",
              "    </tr>\n",
              "    <tr>\n",
              "      <th>1</th>\n",
              "      <td>24011ae4ebbe3035111d65fa7c15bc57</td>\n",
              "      <td>NaN</td>\n",
              "      <td>NaN</td>\n",
              "      <td>foosdfpfkusacimwkcsosbicdxkicaua</td>\n",
              "      <td>0</td>\n",
              "      <td>54946</td>\n",
              "      <td>0</td>\n",
              "      <td>2013-06-15</td>\n",
              "      <td>2016-06-15</td>\n",
              "      <td>NaN</td>\n",
              "      <td>NaN</td>\n",
              "      <td>2015-06-23</td>\n",
              "      <td>NaN</td>\n",
              "      <td>NaN</td>\n",
              "      <td>NaN</td>\n",
              "      <td>NaN</td>\n",
              "      <td>0.00</td>\n",
              "      <td>0</td>\n",
              "      <td>0.0</td>\n",
              "      <td>1.78</td>\n",
              "      <td>0.114481</td>\n",
              "      <td>0.098142</td>\n",
              "      <td>40.606701</td>\n",
              "      <td>t</td>\n",
              "      <td>0.0</td>\n",
              "      <td>25.44</td>\n",
              "      <td>25.44</td>\n",
              "      <td>2</td>\n",
              "      <td>678.99</td>\n",
              "      <td>3</td>\n",
              "      <td>lxidpiddsbxsbosboudacockeimpuepw</td>\n",
              "      <td>43.648</td>\n",
              "    </tr>\n",
              "    <tr>\n",
              "      <th>2</th>\n",
              "      <td>d29c2c54acc38ff3c0614d0a653813dd</td>\n",
              "      <td>NaN</td>\n",
              "      <td>NaN</td>\n",
              "      <td>NaN</td>\n",
              "      <td>4660</td>\n",
              "      <td>0</td>\n",
              "      <td>0</td>\n",
              "      <td>2009-08-21</td>\n",
              "      <td>2016-08-30</td>\n",
              "      <td>NaN</td>\n",
              "      <td>2009-08-21</td>\n",
              "      <td>2015-08-31</td>\n",
              "      <td>NaN</td>\n",
              "      <td>NaN</td>\n",
              "      <td>NaN</td>\n",
              "      <td>NaN</td>\n",
              "      <td>189.95</td>\n",
              "      <td>0</td>\n",
              "      <td>0.0</td>\n",
              "      <td>16.27</td>\n",
              "      <td>0.145711</td>\n",
              "      <td>0.000000</td>\n",
              "      <td>44.311378</td>\n",
              "      <td>f</td>\n",
              "      <td>0.0</td>\n",
              "      <td>16.38</td>\n",
              "      <td>16.38</td>\n",
              "      <td>1</td>\n",
              "      <td>18.89</td>\n",
              "      <td>6</td>\n",
              "      <td>kamkkxfxxuwbdslkwifmmcsiusiuosws</td>\n",
              "      <td>13.800</td>\n",
              "    </tr>\n",
              "    <tr>\n",
              "      <th>3</th>\n",
              "      <td>764c75f661154dac3a6c254cd082ea7d</td>\n",
              "      <td>NaN</td>\n",
              "      <td>NaN</td>\n",
              "      <td>foosdfpfkusacimwkcsosbicdxkicaua</td>\n",
              "      <td>544</td>\n",
              "      <td>0</td>\n",
              "      <td>0</td>\n",
              "      <td>2010-04-16</td>\n",
              "      <td>2016-04-16</td>\n",
              "      <td>NaN</td>\n",
              "      <td>2010-04-16</td>\n",
              "      <td>2015-04-17</td>\n",
              "      <td>NaN</td>\n",
              "      <td>NaN</td>\n",
              "      <td>NaN</td>\n",
              "      <td>NaN</td>\n",
              "      <td>47.96</td>\n",
              "      <td>0</td>\n",
              "      <td>0.0</td>\n",
              "      <td>38.72</td>\n",
              "      <td>0.165794</td>\n",
              "      <td>0.087899</td>\n",
              "      <td>44.311378</td>\n",
              "      <td>f</td>\n",
              "      <td>0.0</td>\n",
              "      <td>28.60</td>\n",
              "      <td>28.60</td>\n",
              "      <td>1</td>\n",
              "      <td>6.60</td>\n",
              "      <td>6</td>\n",
              "      <td>kamkkxfxxuwbdslkwifmmcsiusiuosws</td>\n",
              "      <td>13.856</td>\n",
              "    </tr>\n",
              "    <tr>\n",
              "      <th>4</th>\n",
              "      <td>bba03439a292a1e166f80264c16191cb</td>\n",
              "      <td>NaN</td>\n",
              "      <td>NaN</td>\n",
              "      <td>lmkebamcaaclubfxadlmueccxoimlema</td>\n",
              "      <td>1584</td>\n",
              "      <td>0</td>\n",
              "      <td>0</td>\n",
              "      <td>2010-03-30</td>\n",
              "      <td>2016-03-30</td>\n",
              "      <td>NaN</td>\n",
              "      <td>2010-03-30</td>\n",
              "      <td>2015-03-31</td>\n",
              "      <td>NaN</td>\n",
              "      <td>NaN</td>\n",
              "      <td>NaN</td>\n",
              "      <td>NaN</td>\n",
              "      <td>240.04</td>\n",
              "      <td>0</td>\n",
              "      <td>0.0</td>\n",
              "      <td>19.83</td>\n",
              "      <td>0.146694</td>\n",
              "      <td>0.000000</td>\n",
              "      <td>44.311378</td>\n",
              "      <td>f</td>\n",
              "      <td>0.0</td>\n",
              "      <td>30.22</td>\n",
              "      <td>30.22</td>\n",
              "      <td>1</td>\n",
              "      <td>25.46</td>\n",
              "      <td>6</td>\n",
              "      <td>kamkkxfxxuwbdslkwifmmcsiusiuosws</td>\n",
              "      <td>13.200</td>\n",
              "    </tr>\n",
              "  </tbody>\n",
              "</table>\n",
              "</div>"
            ],
            "text/plain": [
              "                                 id  ...  pow_max\n",
              "0  48ada52261e7cf58715202705a0451c9  ...  180.000\n",
              "1  24011ae4ebbe3035111d65fa7c15bc57  ...   43.648\n",
              "2  d29c2c54acc38ff3c0614d0a653813dd  ...   13.800\n",
              "3  764c75f661154dac3a6c254cd082ea7d  ...   13.856\n",
              "4  bba03439a292a1e166f80264c16191cb  ...   13.200\n",
              "\n",
              "[5 rows x 32 columns]"
            ]
          },
          "metadata": {
            "tags": []
          },
          "execution_count": 4
        }
      ]
    },
    {
      "cell_type": "code",
      "metadata": {
        "id": "6zvEMDZe36EV",
        "colab": {
          "base_uri": "https://localhost:8080/"
        },
        "outputId": "3e189c5f-7a53-4e24-c242-57ad712dec4a"
      },
      "source": [
        "df1.shape"
      ],
      "execution_count": null,
      "outputs": [
        {
          "output_type": "execute_result",
          "data": {
            "text/plain": [
              "(16096, 32)"
            ]
          },
          "metadata": {
            "tags": []
          },
          "execution_count": 5
        }
      ]
    },
    {
      "cell_type": "code",
      "metadata": {
        "id": "ukfZR-e8363q",
        "colab": {
          "base_uri": "https://localhost:8080/"
        },
        "outputId": "9286cc6a-de8f-4809-9b2c-6e5a80624f77"
      },
      "source": [
        "df1.info()"
      ],
      "execution_count": null,
      "outputs": [
        {
          "output_type": "stream",
          "text": [
            "<class 'pandas.core.frame.DataFrame'>\n",
            "RangeIndex: 16096 entries, 0 to 16095\n",
            "Data columns (total 32 columns):\n",
            " #   Column                    Non-Null Count  Dtype  \n",
            "---  ------                    --------------  -----  \n",
            " 0   id                        16096 non-null  object \n",
            " 1   activity_new              6551 non-null   object \n",
            " 2   campaign_disc_ele         0 non-null      float64\n",
            " 3   channel_sales             11878 non-null  object \n",
            " 4   cons_12m                  16096 non-null  int64  \n",
            " 5   cons_gas_12m              16096 non-null  int64  \n",
            " 6   cons_last_month           16096 non-null  int64  \n",
            " 7   date_activ                16096 non-null  object \n",
            " 8   date_end                  16094 non-null  object \n",
            " 9   date_first_activ          3508 non-null   object \n",
            " 10  date_modif_prod           15939 non-null  object \n",
            " 11  date_renewal              16056 non-null  object \n",
            " 12  forecast_base_bill_ele    3508 non-null   float64\n",
            " 13  forecast_base_bill_year   3508 non-null   float64\n",
            " 14  forecast_bill_12m         3508 non-null   float64\n",
            " 15  forecast_cons             3508 non-null   float64\n",
            " 16  forecast_cons_12m         16096 non-null  float64\n",
            " 17  forecast_cons_year        16096 non-null  int64  \n",
            " 18  forecast_discount_energy  15970 non-null  float64\n",
            " 19  forecast_meter_rent_12m   16096 non-null  float64\n",
            " 20  forecast_price_energy_p1  15970 non-null  float64\n",
            " 21  forecast_price_energy_p2  15970 non-null  float64\n",
            " 22  forecast_price_pow_p1     15970 non-null  float64\n",
            " 23  has_gas                   16096 non-null  object \n",
            " 24  imp_cons                  16096 non-null  float64\n",
            " 25  margin_gross_pow_ele      16083 non-null  float64\n",
            " 26  margin_net_pow_ele        16083 non-null  float64\n",
            " 27  nb_prod_act               16096 non-null  int64  \n",
            " 28  net_margin                16081 non-null  float64\n",
            " 29  num_years_antig           16096 non-null  int64  \n",
            " 30  origin_up                 16009 non-null  object \n",
            " 31  pow_max                   16093 non-null  float64\n",
            "dtypes: float64(16), int64(6), object(10)\n",
            "memory usage: 3.9+ MB\n"
          ],
          "name": "stdout"
        }
      ]
    },
    {
      "cell_type": "code",
      "metadata": {
        "id": "SGta5mf839D9",
        "colab": {
          "base_uri": "https://localhost:8080/"
        },
        "outputId": "b6bcb78e-3272-4abd-9a88-c449566dda67"
      },
      "source": [
        "df2.info()"
      ],
      "execution_count": null,
      "outputs": [
        {
          "output_type": "stream",
          "text": [
            "<class 'pandas.core.frame.DataFrame'>\n",
            "RangeIndex: 193002 entries, 0 to 193001\n",
            "Data columns (total 8 columns):\n",
            " #   Column        Non-Null Count   Dtype  \n",
            "---  ------        --------------   -----  \n",
            " 0   id            193002 non-null  object \n",
            " 1   price_date    193002 non-null  object \n",
            " 2   price_p1_var  191643 non-null  float64\n",
            " 3   price_p2_var  191643 non-null  float64\n",
            " 4   price_p3_var  191643 non-null  float64\n",
            " 5   price_p1_fix  191643 non-null  float64\n",
            " 6   price_p2_fix  191643 non-null  float64\n",
            " 7   price_p3_fix  191643 non-null  float64\n",
            "dtypes: float64(6), object(2)\n",
            "memory usage: 11.8+ MB\n"
          ],
          "name": "stdout"
        }
      ]
    },
    {
      "cell_type": "code",
      "metadata": {
        "id": "OZcmYrfJ4NgU",
        "colab": {
          "base_uri": "https://localhost:8080/"
        },
        "outputId": "ff40c87b-89e5-40fa-e697-0e640cb01eb6"
      },
      "source": [
        "df3.info()"
      ],
      "execution_count": null,
      "outputs": [
        {
          "output_type": "stream",
          "text": [
            "<class 'pandas.core.frame.DataFrame'>\n",
            "RangeIndex: 16096 entries, 0 to 16095\n",
            "Data columns (total 2 columns):\n",
            " #   Column  Non-Null Count  Dtype \n",
            "---  ------  --------------  ----- \n",
            " 0   id      16096 non-null  object\n",
            " 1   churn   16096 non-null  int64 \n",
            "dtypes: int64(1), object(1)\n",
            "memory usage: 251.6+ KB\n"
          ],
          "name": "stdout"
        }
      ]
    },
    {
      "cell_type": "code",
      "metadata": {
        "id": "3pMn6I5AysqY"
      },
      "source": [
        "df=pd.concat([df1,df3], axis=1)"
      ],
      "execution_count": null,
      "outputs": []
    },
    {
      "cell_type": "markdown",
      "metadata": {
        "id": "6wIxdx3U4tdr"
      },
      "source": [
        "# 2. Data Cleaning"
      ]
    },
    {
      "cell_type": "code",
      "metadata": {
        "id": "EQHaXzza4T9O",
        "colab": {
          "base_uri": "https://localhost:8080/"
        },
        "outputId": "28276b58-12d3-45fe-f987-99b9ee6fd435"
      },
      "source": [
        "# Separating numeric and non_numeric features\r\n",
        "df_numeric= df.select_dtypes(include=[np.number])\r\n",
        "numeric_cols = df_numeric.columns.values\r\n",
        "print(numeric_cols)"
      ],
      "execution_count": null,
      "outputs": [
        {
          "output_type": "stream",
          "text": [
            "['campaign_disc_ele' 'cons_12m' 'cons_gas_12m' 'cons_last_month'\n",
            " 'forecast_base_bill_ele' 'forecast_base_bill_year' 'forecast_bill_12m'\n",
            " 'forecast_cons' 'forecast_cons_12m' 'forecast_cons_year'\n",
            " 'forecast_discount_energy' 'forecast_meter_rent_12m'\n",
            " 'forecast_price_energy_p1' 'forecast_price_energy_p2'\n",
            " 'forecast_price_pow_p1' 'imp_cons' 'margin_gross_pow_ele'\n",
            " 'margin_net_pow_ele' 'nb_prod_act' 'net_margin' 'num_years_antig'\n",
            " 'pow_max' 'churn']\n"
          ],
          "name": "stdout"
        }
      ]
    },
    {
      "cell_type": "code",
      "metadata": {
        "id": "3NyjIvWA5Lsw",
        "colab": {
          "base_uri": "https://localhost:8080/"
        },
        "outputId": "018cddae-8e58-4a6c-cd74-5bb09dda9111"
      },
      "source": [
        "df_non_numeric= df.select_dtypes(exclude=[np.number])\r\n",
        "non_numeric_cols= df_non_numeric.columns.values\r\n",
        "print(non_numeric_cols)"
      ],
      "execution_count": null,
      "outputs": [
        {
          "output_type": "stream",
          "text": [
            "['id' 'activity_new' 'channel_sales' 'date_activ' 'date_end'\n",
            " 'date_first_activ' 'date_modif_prod' 'date_renewal' 'has_gas' 'origin_up'\n",
            " 'id']\n"
          ],
          "name": "stdout"
        }
      ]
    },
    {
      "cell_type": "code",
      "metadata": {
        "id": "HKnQGkybzD-y",
        "colab": {
          "base_uri": "https://localhost:8080/"
        },
        "outputId": "c5222ca7-e270-40c4-c289-2f8a39700711"
      },
      "source": [
        "df['churn'].value_counts()"
      ],
      "execution_count": null,
      "outputs": [
        {
          "output_type": "execute_result",
          "data": {
            "text/plain": [
              "0    14501\n",
              "1     1595\n",
              "Name: churn, dtype: int64"
            ]
          },
          "metadata": {
            "tags": []
          },
          "execution_count": 12
        }
      ]
    },
    {
      "cell_type": "markdown",
      "metadata": {
        "id": "sPDmIRw868wr"
      },
      "source": [
        "## 2.1 Upscaling of data"
      ]
    },
    {
      "cell_type": "code",
      "metadata": {
        "id": "Bnbgo803y8U6"
      },
      "source": [
        "from sklearn.utils import resample"
      ],
      "execution_count": null,
      "outputs": []
    },
    {
      "cell_type": "code",
      "metadata": {
        "id": "VedfhPQ-zTiL",
        "colab": {
          "base_uri": "https://localhost:8080/"
        },
        "outputId": "568a3a2a-199c-4c21-db84-ea33d1a3d65b"
      },
      "source": [
        "df_majority= df[df['churn']==0]\r\n",
        "df_minority= df[df['churn']==1]\r\n",
        "\r\n",
        "df_minority_upsampled= resample(df_minority, replace=True, n_samples=14501, random_state=101)\r\n",
        "\r\n",
        "df_upsampled= pd.concat([df_majority, df_minority_upsampled])\r\n",
        "df_upsampled['churn'].value_counts()"
      ],
      "execution_count": null,
      "outputs": [
        {
          "output_type": "execute_result",
          "data": {
            "text/plain": [
              "1    14501\n",
              "0    14501\n",
              "Name: churn, dtype: int64"
            ]
          },
          "metadata": {
            "tags": []
          },
          "execution_count": 14
        }
      ]
    },
    {
      "cell_type": "markdown",
      "metadata": {
        "id": "wDaNcTKq5ql1"
      },
      "source": [
        "## 2.2 Handling Missing Values\r\n",
        "\r\n",
        "> Indented block\r\n",
        "\r\n"
      ]
    },
    {
      "cell_type": "code",
      "metadata": {
        "id": "-2ejsS1u5gad",
        "colab": {
          "base_uri": "https://localhost:8080/",
          "height": 421
        },
        "outputId": "a0641487-9abf-45f4-f42d-d337ae9da6ea"
      },
      "source": [
        "colours = ['#000099', '#ffff00'] # specify the colours - yellow is missing. blue is not missing.\r\n",
        "sns.heatmap(df_upsampled.isnull(), cmap=sns.color_palette(colours))\r\n",
        "plt.figure(figsize=(15,10))"
      ],
      "execution_count": null,
      "outputs": [
        {
          "output_type": "execute_result",
          "data": {
            "text/plain": [
              "<Figure size 1080x720 with 0 Axes>"
            ]
          },
          "metadata": {
            "tags": []
          },
          "execution_count": 15
        },
        {
          "output_type": "display_data",
          "data": {
            "image/png": "[encoded data removed]",
            "text/plain": [
              "<Figure size 432x288 with 2 Axes>"
            ]
          },
          "metadata": {
            "tags": [],
            "needs_background": "light"
          }
        },
        {
          "output_type": "display_data",
          "data": {
            "text/plain": [
              "<Figure size 1080x720 with 0 Axes>"
            ]
          },
          "metadata": {
            "tags": []
          }
        }
      ]
    },
    {
      "cell_type": "code",
      "metadata": {
        "id": "bXEPtYjx0q6G"
      },
      "source": [
        "df1= df_upsampled.drop('churn', axis=1)\r\n",
        "df3= df_upsampled['churn']"
      ],
      "execution_count": null,
      "outputs": []
    },
    {
      "cell_type": "code",
      "metadata": {
        "id": "jumbB3Al1s_n",
        "colab": {
          "base_uri": "https://localhost:8080/"
        },
        "outputId": "b6bbc418-6a4f-406a-c8c4-443e5ed4fd10"
      },
      "source": [
        "df1.shape"
      ],
      "execution_count": null,
      "outputs": [
        {
          "output_type": "execute_result",
          "data": {
            "text/plain": [
              "(29002, 33)"
            ]
          },
          "metadata": {
            "tags": []
          },
          "execution_count": 17
        }
      ]
    },
    {
      "cell_type": "code",
      "metadata": {
        "id": "QNupstvL6wcy",
        "colab": {
          "base_uri": "https://localhost:8080/"
        },
        "outputId": "87803b6d-050b-48be-a443-c89b137380b1"
      },
      "source": [
        "miss_col=[]\r\n",
        "for col in df1.columns:\r\n",
        "  val= np.round((df1[col].isnull().sum()/29002)*100)\r\n",
        "  print(col, ':', np.round((df1[col].isnull().sum()/29002)*100), '%')"
      ],
      "execution_count": null,
      "outputs": [
        {
          "output_type": "stream",
          "text": [
            "id : id    0.0\n",
            "id    0.0\n",
            "dtype: float64 %\n",
            "activity_new : 59.0 %\n",
            "campaign_disc_ele : 100.0 %\n",
            "channel_sales : 24.0 %\n",
            "cons_12m : 0.0 %\n",
            "cons_gas_12m : 0.0 %\n",
            "cons_last_month : 0.0 %\n",
            "date_activ : 0.0 %\n",
            "date_end : 0.0 %\n",
            "date_first_activ : 73.0 %\n",
            "date_modif_prod : 1.0 %\n",
            "date_renewal : 0.0 %\n",
            "forecast_base_bill_ele : 73.0 %\n",
            "forecast_base_bill_year : 73.0 %\n",
            "forecast_bill_12m : 73.0 %\n",
            "forecast_cons : 73.0 %\n",
            "forecast_cons_12m : 0.0 %\n",
            "forecast_cons_year : 0.0 %\n",
            "forecast_discount_energy : 2.0 %\n",
            "forecast_meter_rent_12m : 0.0 %\n",
            "forecast_price_energy_p1 : 2.0 %\n",
            "forecast_price_energy_p2 : 2.0 %\n",
            "forecast_price_pow_p1 : 2.0 %\n",
            "has_gas : 0.0 %\n",
            "imp_cons : 0.0 %\n",
            "margin_gross_pow_ele : 0.0 %\n",
            "margin_net_pow_ele : 0.0 %\n",
            "nb_prod_act : 0.0 %\n",
            "net_margin : 0.0 %\n",
            "num_years_antig : 0.0 %\n",
            "origin_up : 0.0 %\n",
            "pow_max : 0.0 %\n",
            "id : id    0.0\n",
            "id    0.0\n",
            "dtype: float64 %\n"
          ],
          "name": "stdout"
        }
      ]
    },
    {
      "cell_type": "code",
      "metadata": {
        "id": "5JC6XSvz79p7",
        "colab": {
          "base_uri": "https://localhost:8080/",
          "height": 309
        },
        "outputId": "8e6d0953-f307-4ee1-fca7-513249d5b613"
      },
      "source": [
        "df1.head()"
      ],
      "execution_count": null,
      "outputs": [
        {
          "output_type": "execute_result",
          "data": {
            "text/html": [
              "<div>\n",
              "<style scoped>\n",
              "    .dataframe tbody tr th:only-of-type {\n",
              "        vertical-align: middle;\n",
              "    }\n",
              "\n",
              "    .dataframe tbody tr th {\n",
              "        vertical-align: top;\n",
              "    }\n",
              "\n",
              "    .dataframe thead th {\n",
              "        text-align: right;\n",
              "    }\n",
              "</style>\n",
              "<table border=\"1\" class=\"dataframe\">\n",
              "  <thead>\n",
              "    <tr style=\"text-align: right;\">\n",
              "      <th></th>\n",
              "      <th>id</th>\n",
              "      <th>activity_new</th>\n",
              "      <th>campaign_disc_ele</th>\n",
              "      <th>channel_sales</th>\n",
              "      <th>cons_12m</th>\n",
              "      <th>cons_gas_12m</th>\n",
              "      <th>cons_last_month</th>\n",
              "      <th>date_activ</th>\n",
              "      <th>date_end</th>\n",
              "      <th>date_first_activ</th>\n",
              "      <th>date_modif_prod</th>\n",
              "      <th>date_renewal</th>\n",
              "      <th>forecast_base_bill_ele</th>\n",
              "      <th>forecast_base_bill_year</th>\n",
              "      <th>forecast_bill_12m</th>\n",
              "      <th>forecast_cons</th>\n",
              "      <th>forecast_cons_12m</th>\n",
              "      <th>forecast_cons_year</th>\n",
              "      <th>forecast_discount_energy</th>\n",
              "      <th>forecast_meter_rent_12m</th>\n",
              "      <th>forecast_price_energy_p1</th>\n",
              "      <th>forecast_price_energy_p2</th>\n",
              "      <th>forecast_price_pow_p1</th>\n",
              "      <th>has_gas</th>\n",
              "      <th>imp_cons</th>\n",
              "      <th>margin_gross_pow_ele</th>\n",
              "      <th>margin_net_pow_ele</th>\n",
              "      <th>nb_prod_act</th>\n",
              "      <th>net_margin</th>\n",
              "      <th>num_years_antig</th>\n",
              "      <th>origin_up</th>\n",
              "      <th>pow_max</th>\n",
              "      <th>id</th>\n",
              "    </tr>\n",
              "  </thead>\n",
              "  <tbody>\n",
              "    <tr>\n",
              "      <th>0</th>\n",
              "      <td>48ada52261e7cf58715202705a0451c9</td>\n",
              "      <td>esoiiifxdlbkcsluxmfuacbdckommixw</td>\n",
              "      <td>NaN</td>\n",
              "      <td>lmkebamcaaclubfxadlmueccxoimlema</td>\n",
              "      <td>309275</td>\n",
              "      <td>0</td>\n",
              "      <td>10025</td>\n",
              "      <td>2012-11-07</td>\n",
              "      <td>2016-11-06</td>\n",
              "      <td>NaN</td>\n",
              "      <td>2012-11-07</td>\n",
              "      <td>2015-11-09</td>\n",
              "      <td>NaN</td>\n",
              "      <td>NaN</td>\n",
              "      <td>NaN</td>\n",
              "      <td>NaN</td>\n",
              "      <td>26520.30</td>\n",
              "      <td>10025</td>\n",
              "      <td>0.0</td>\n",
              "      <td>359.29</td>\n",
              "      <td>0.095919</td>\n",
              "      <td>0.088347</td>\n",
              "      <td>58.995952</td>\n",
              "      <td>f</td>\n",
              "      <td>831.80</td>\n",
              "      <td>-41.76</td>\n",
              "      <td>-41.76</td>\n",
              "      <td>1</td>\n",
              "      <td>1732.36</td>\n",
              "      <td>3</td>\n",
              "      <td>ldkssxwpmemidmecebumciepifcamkci</td>\n",
              "      <td>180.000</td>\n",
              "      <td>48ada52261e7cf58715202705a0451c9</td>\n",
              "    </tr>\n",
              "    <tr>\n",
              "      <th>2</th>\n",
              "      <td>d29c2c54acc38ff3c0614d0a653813dd</td>\n",
              "      <td>NaN</td>\n",
              "      <td>NaN</td>\n",
              "      <td>NaN</td>\n",
              "      <td>4660</td>\n",
              "      <td>0</td>\n",
              "      <td>0</td>\n",
              "      <td>2009-08-21</td>\n",
              "      <td>2016-08-30</td>\n",
              "      <td>NaN</td>\n",
              "      <td>2009-08-21</td>\n",
              "      <td>2015-08-31</td>\n",
              "      <td>NaN</td>\n",
              "      <td>NaN</td>\n",
              "      <td>NaN</td>\n",
              "      <td>NaN</td>\n",
              "      <td>189.95</td>\n",
              "      <td>0</td>\n",
              "      <td>0.0</td>\n",
              "      <td>16.27</td>\n",
              "      <td>0.145711</td>\n",
              "      <td>0.000000</td>\n",
              "      <td>44.311378</td>\n",
              "      <td>f</td>\n",
              "      <td>0.00</td>\n",
              "      <td>16.38</td>\n",
              "      <td>16.38</td>\n",
              "      <td>1</td>\n",
              "      <td>18.89</td>\n",
              "      <td>6</td>\n",
              "      <td>kamkkxfxxuwbdslkwifmmcsiusiuosws</td>\n",
              "      <td>13.800</td>\n",
              "      <td>d29c2c54acc38ff3c0614d0a653813dd</td>\n",
              "    </tr>\n",
              "    <tr>\n",
              "      <th>3</th>\n",
              "      <td>764c75f661154dac3a6c254cd082ea7d</td>\n",
              "      <td>NaN</td>\n",
              "      <td>NaN</td>\n",
              "      <td>foosdfpfkusacimwkcsosbicdxkicaua</td>\n",
              "      <td>544</td>\n",
              "      <td>0</td>\n",
              "      <td>0</td>\n",
              "      <td>2010-04-16</td>\n",
              "      <td>2016-04-16</td>\n",
              "      <td>NaN</td>\n",
              "      <td>2010-04-16</td>\n",
              "      <td>2015-04-17</td>\n",
              "      <td>NaN</td>\n",
              "      <td>NaN</td>\n",
              "      <td>NaN</td>\n",
              "      <td>NaN</td>\n",
              "      <td>47.96</td>\n",
              "      <td>0</td>\n",
              "      <td>0.0</td>\n",
              "      <td>38.72</td>\n",
              "      <td>0.165794</td>\n",
              "      <td>0.087899</td>\n",
              "      <td>44.311378</td>\n",
              "      <td>f</td>\n",
              "      <td>0.00</td>\n",
              "      <td>28.60</td>\n",
              "      <td>28.60</td>\n",
              "      <td>1</td>\n",
              "      <td>6.60</td>\n",
              "      <td>6</td>\n",
              "      <td>kamkkxfxxuwbdslkwifmmcsiusiuosws</td>\n",
              "      <td>13.856</td>\n",
              "      <td>764c75f661154dac3a6c254cd082ea7d</td>\n",
              "    </tr>\n",
              "    <tr>\n",
              "      <th>4</th>\n",
              "      <td>bba03439a292a1e166f80264c16191cb</td>\n",
              "      <td>NaN</td>\n",
              "      <td>NaN</td>\n",
              "      <td>lmkebamcaaclubfxadlmueccxoimlema</td>\n",
              "      <td>1584</td>\n",
              "      <td>0</td>\n",
              "      <td>0</td>\n",
              "      <td>2010-03-30</td>\n",
              "      <td>2016-03-30</td>\n",
              "      <td>NaN</td>\n",
              "      <td>2010-03-30</td>\n",
              "      <td>2015-03-31</td>\n",
              "      <td>NaN</td>\n",
              "      <td>NaN</td>\n",
              "      <td>NaN</td>\n",
              "      <td>NaN</td>\n",
              "      <td>240.04</td>\n",
              "      <td>0</td>\n",
              "      <td>0.0</td>\n",
              "      <td>19.83</td>\n",
              "      <td>0.146694</td>\n",
              "      <td>0.000000</td>\n",
              "      <td>44.311378</td>\n",
              "      <td>f</td>\n",
              "      <td>0.00</td>\n",
              "      <td>30.22</td>\n",
              "      <td>30.22</td>\n",
              "      <td>1</td>\n",
              "      <td>25.46</td>\n",
              "      <td>6</td>\n",
              "      <td>kamkkxfxxuwbdslkwifmmcsiusiuosws</td>\n",
              "      <td>13.200</td>\n",
              "      <td>bba03439a292a1e166f80264c16191cb</td>\n",
              "    </tr>\n",
              "    <tr>\n",
              "      <th>5</th>\n",
              "      <td>568bb38a1afd7c0fc49c77b3789b59a3</td>\n",
              "      <td>sfisfxfcocfpcmckuekokxuseixdaoeu</td>\n",
              "      <td>NaN</td>\n",
              "      <td>foosdfpfkusacimwkcsosbicdxkicaua</td>\n",
              "      <td>121335</td>\n",
              "      <td>0</td>\n",
              "      <td>12400</td>\n",
              "      <td>2010-04-08</td>\n",
              "      <td>2016-04-08</td>\n",
              "      <td>2010-04-08</td>\n",
              "      <td>2010-04-08</td>\n",
              "      <td>2015-04-12</td>\n",
              "      <td>1399.83</td>\n",
              "      <td>1399.83</td>\n",
              "      <td>14559.74</td>\n",
              "      <td>1052.37</td>\n",
              "      <td>10865.02</td>\n",
              "      <td>12400</td>\n",
              "      <td>0.0</td>\n",
              "      <td>170.74</td>\n",
              "      <td>0.110083</td>\n",
              "      <td>0.093746</td>\n",
              "      <td>40.606701</td>\n",
              "      <td>f</td>\n",
              "      <td>1052.37</td>\n",
              "      <td>-3.18</td>\n",
              "      <td>-3.18</td>\n",
              "      <td>1</td>\n",
              "      <td>823.18</td>\n",
              "      <td>6</td>\n",
              "      <td>lxidpiddsbxsbosboudacockeimpuepw</td>\n",
              "      <td>75.000</td>\n",
              "      <td>568bb38a1afd7c0fc49c77b3789b59a3</td>\n",
              "    </tr>\n",
              "  </tbody>\n",
              "</table>\n",
              "</div>"
            ],
            "text/plain": [
              "                                 id  ...                                id\n",
              "0  48ada52261e7cf58715202705a0451c9  ...  48ada52261e7cf58715202705a0451c9\n",
              "2  d29c2c54acc38ff3c0614d0a653813dd  ...  d29c2c54acc38ff3c0614d0a653813dd\n",
              "3  764c75f661154dac3a6c254cd082ea7d  ...  764c75f661154dac3a6c254cd082ea7d\n",
              "4  bba03439a292a1e166f80264c16191cb  ...  bba03439a292a1e166f80264c16191cb\n",
              "5  568bb38a1afd7c0fc49c77b3789b59a3  ...  568bb38a1afd7c0fc49c77b3789b59a3\n",
              "\n",
              "[5 rows x 33 columns]"
            ]
          },
          "metadata": {
            "tags": []
          },
          "execution_count": 19
        }
      ]
    },
    {
      "cell_type": "code",
      "metadata": {
        "id": "u2eBK_lv9KWG",
        "colab": {
          "base_uri": "https://localhost:8080/"
        },
        "outputId": "d2294d72-f94c-4699-c44f-bb27bed47610"
      },
      "source": [
        "df1.nunique()"
      ],
      "execution_count": null,
      "outputs": [
        {
          "output_type": "execute_result",
          "data": {
            "text/plain": [
              "id                          16096\n",
              "activity_new                  419\n",
              "campaign_disc_ele               0\n",
              "channel_sales                   7\n",
              "cons_12m                    12002\n",
              "cons_gas_12m                 2290\n",
              "cons_last_month              5308\n",
              "date_activ                   1961\n",
              "date_end                      371\n",
              "date_first_activ             1133\n",
              "date_modif_prod              2307\n",
              "date_renewal                  398\n",
              "forecast_base_bill_ele       2042\n",
              "forecast_base_bill_year      2042\n",
              "forecast_bill_12m            3429\n",
              "forecast_cons                1955\n",
              "forecast_cons_12m           15422\n",
              "forecast_cons_year           4895\n",
              "forecast_discount_energy       14\n",
              "forecast_meter_rent_12m      3938\n",
              "forecast_price_energy_p1      617\n",
              "forecast_price_energy_p2      412\n",
              "forecast_price_pow_p1          46\n",
              "has_gas                         2\n",
              "imp_cons                     8765\n",
              "margin_gross_pow_ele         2979\n",
              "margin_net_pow_ele           3006\n",
              "nb_prod_act                    11\n",
              "net_margin                  13189\n",
              "num_years_antig                15\n",
              "origin_up                       5\n",
              "pow_max                       867\n",
              "id                          16096\n",
              "dtype: int64"
            ]
          },
          "metadata": {
            "tags": []
          },
          "execution_count": 20
        }
      ]
    },
    {
      "cell_type": "code",
      "metadata": {
        "id": "3tNbiyel9wZR",
        "colab": {
          "base_uri": "https://localhost:8080/"
        },
        "outputId": "ba70b068-4ae1-4acb-fd39-d0d68882bd54"
      },
      "source": [
        "miss_col=['activity_new', 'campaign_disc_ele', 'channel_sales', 'date_first_activ','forecast_base_bill_ele','forecast_base_bill_year','forecast_bill_12m','forecast_cons']\r\n",
        "df1.drop(miss_col, axis=1).shape"
      ],
      "execution_count": null,
      "outputs": [
        {
          "output_type": "execute_result",
          "data": {
            "text/plain": [
              "(29002, 25)"
            ]
          },
          "metadata": {
            "tags": []
          },
          "execution_count": 21
        }
      ]
    },
    {
      "cell_type": "code",
      "metadata": {
        "id": "B--JCDu0-CZi",
        "colab": {
          "base_uri": "https://localhost:8080/"
        },
        "outputId": "e4cc34c7-dd42-4f0c-e885-87b778d54a18"
      },
      "source": [
        "df1.drop(miss_col, axis=1).info()"
      ],
      "execution_count": null,
      "outputs": [
        {
          "output_type": "stream",
          "text": [
            "<class 'pandas.core.frame.DataFrame'>\n",
            "Int64Index: 29002 entries, 0 to 4419\n",
            "Data columns (total 25 columns):\n",
            " #   Column                    Non-Null Count  Dtype  \n",
            "---  ------                    --------------  -----  \n",
            " 0   id                        29002 non-null  object \n",
            " 1   cons_12m                  29002 non-null  int64  \n",
            " 2   cons_gas_12m              29002 non-null  int64  \n",
            " 3   cons_last_month           29002 non-null  int64  \n",
            " 4   date_activ                29002 non-null  object \n",
            " 5   date_end                  29000 non-null  object \n",
            " 6   date_modif_prod           28649 non-null  object \n",
            " 7   date_renewal              28962 non-null  object \n",
            " 8   forecast_cons_12m         29002 non-null  float64\n",
            " 9   forecast_cons_year        29002 non-null  int64  \n",
            " 10  forecast_discount_energy  28491 non-null  float64\n",
            " 11  forecast_meter_rent_12m   29002 non-null  float64\n",
            " 12  forecast_price_energy_p1  28491 non-null  float64\n",
            " 13  forecast_price_energy_p2  28491 non-null  float64\n",
            " 14  forecast_price_pow_p1     28491 non-null  float64\n",
            " 15  has_gas                   29002 non-null  object \n",
            " 16  imp_cons                  29002 non-null  float64\n",
            " 17  margin_gross_pow_ele      28989 non-null  float64\n",
            " 18  margin_net_pow_ele        28989 non-null  float64\n",
            " 19  nb_prod_act               29002 non-null  int64  \n",
            " 20  net_margin                28987 non-null  float64\n",
            " 21  num_years_antig           29002 non-null  int64  \n",
            " 22  origin_up                 28868 non-null  object \n",
            " 23  pow_max                   28999 non-null  float64\n",
            " 24  id                        29002 non-null  object \n",
            "dtypes: float64(11), int64(6), object(8)\n",
            "memory usage: 5.8+ MB\n"
          ],
          "name": "stdout"
        }
      ]
    },
    {
      "cell_type": "code",
      "metadata": {
        "id": "t3dRtN83A-JV",
        "colab": {
          "base_uri": "https://localhost:8080/",
          "height": 421
        },
        "outputId": "b1361ca5-9c43-410a-8529-e9fa68925f2b"
      },
      "source": [
        "colours = ['#000099', '#ffff00'] # specify the colours - yellow is missing. blue is not missing.\r\n",
        "sns.heatmap(df1.drop(miss_col, axis=1).isnull(), cmap=sns.color_palette(colours))\r\n",
        "plt.figure(figsize=(15,10))"
      ],
      "execution_count": null,
      "outputs": [
        {
          "output_type": "execute_result",
          "data": {
            "text/plain": [
              "<Figure size 1080x720 with 0 Axes>"
            ]
          },
          "metadata": {
            "tags": []
          },
          "execution_count": 23
        },
        {
          "output_type": "display_data",
          "data": {
            "image/png": "[encoded data removed]",
            "text/plain": [
              "<Figure size 432x288 with 2 Axes>"
            ]
          },
          "metadata": {
            "tags": [],
            "needs_background": "light"
          }
        },
        {
          "output_type": "display_data",
          "data": {
            "text/plain": [
              "<Figure size 1080x720 with 0 Axes>"
            ]
          },
          "metadata": {
            "tags": []
          }
        }
      ]
    },
    {
      "cell_type": "code",
      "metadata": {
        "id": "xnCpT5xCA5fg",
        "colab": {
          "base_uri": "https://localhost:8080/"
        },
        "outputId": "7e363ecc-69de-4692-d23a-45bf8e64162a"
      },
      "source": [
        "for col in df1.drop(miss_col, axis=1).columns:\r\n",
        "  print(col, ':', np.round((df1.drop(miss_col, axis=1)[col].isnull().sum()/29002)*100), '%')"
      ],
      "execution_count": null,
      "outputs": [
        {
          "output_type": "stream",
          "text": [
            "id : id    0.0\n",
            "id    0.0\n",
            "dtype: float64 %\n",
            "cons_12m : 0.0 %\n",
            "cons_gas_12m : 0.0 %\n",
            "cons_last_month : 0.0 %\n",
            "date_activ : 0.0 %\n",
            "date_end : 0.0 %\n",
            "date_modif_prod : 1.0 %\n",
            "date_renewal : 0.0 %\n",
            "forecast_cons_12m : 0.0 %\n",
            "forecast_cons_year : 0.0 %\n",
            "forecast_discount_energy : 2.0 %\n",
            "forecast_meter_rent_12m : 0.0 %\n",
            "forecast_price_energy_p1 : 2.0 %\n",
            "forecast_price_energy_p2 : 2.0 %\n",
            "forecast_price_pow_p1 : 2.0 %\n",
            "has_gas : 0.0 %\n",
            "imp_cons : 0.0 %\n",
            "margin_gross_pow_ele : 0.0 %\n",
            "margin_net_pow_ele : 0.0 %\n",
            "nb_prod_act : 0.0 %\n",
            "net_margin : 0.0 %\n",
            "num_years_antig : 0.0 %\n",
            "origin_up : 0.0 %\n",
            "pow_max : 0.0 %\n",
            "id : id    0.0\n",
            "id    0.0\n",
            "dtype: float64 %\n"
          ],
          "name": "stdout"
        }
      ]
    },
    {
      "cell_type": "code",
      "metadata": {
        "id": "mflFkYQX-yBN",
        "colab": {
          "base_uri": "https://localhost:8080/"
        },
        "outputId": "7f0f88d0-99f6-459b-ee58-816e009350d6"
      },
      "source": [
        "df1.drop(miss_col, axis=1, inplace=True)"
      ],
      "execution_count": null,
      "outputs": [
        {
          "output_type": "stream",
          "text": [
            "/usr/local/lib/python3.6/dist-packages/pandas/core/frame.py:4174: SettingWithCopyWarning: \n",
            "A value is trying to be set on a copy of a slice from a DataFrame\n",
            "\n",
            "See the caveats in the documentation: https://pandas.pydata.org/pandas-docs/stable/user_guide/indexing.html#returning-a-view-versus-a-copy\n",
            "  errors=errors,\n"
          ],
          "name": "stderr"
        }
      ]
    },
    {
      "cell_type": "code",
      "metadata": {
        "id": "CgGbdkLY31Cb",
        "colab": {
          "base_uri": "https://localhost:8080/"
        },
        "outputId": "102e733a-01c5-4496-cdf8-960bb699017e"
      },
      "source": [
        "df1.shape"
      ],
      "execution_count": null,
      "outputs": [
        {
          "output_type": "execute_result",
          "data": {
            "text/plain": [
              "(29002, 25)"
            ]
          },
          "metadata": {
            "tags": []
          },
          "execution_count": 26
        }
      ]
    },
    {
      "cell_type": "code",
      "metadata": {
        "id": "VvCNWIeWCBqE"
      },
      "source": [
        "df= pd.concat([df1,df3], axis=1)"
      ],
      "execution_count": null,
      "outputs": []
    },
    {
      "cell_type": "code",
      "metadata": {
        "id": "0BKEx2yUh7zg",
        "colab": {
          "base_uri": "https://localhost:8080/",
          "height": 309
        },
        "outputId": "dd0cb2f4-6cc4-4bd2-c43e-4cb08fbfa54b"
      },
      "source": [
        "df.head()"
      ],
      "execution_count": null,
      "outputs": [
        {
          "output_type": "execute_result",
          "data": {
            "text/html": [
              "<div>\n",
              "<style scoped>\n",
              "    .dataframe tbody tr th:only-of-type {\n",
              "        vertical-align: middle;\n",
              "    }\n",
              "\n",
              "    .dataframe tbody tr th {\n",
              "        vertical-align: top;\n",
              "    }\n",
              "\n",
              "    .dataframe thead th {\n",
              "        text-align: right;\n",
              "    }\n",
              "</style>\n",
              "<table border=\"1\" class=\"dataframe\">\n",
              "  <thead>\n",
              "    <tr style=\"text-align: right;\">\n",
              "      <th></th>\n",
              "      <th>id</th>\n",
              "      <th>cons_12m</th>\n",
              "      <th>cons_gas_12m</th>\n",
              "      <th>cons_last_month</th>\n",
              "      <th>date_activ</th>\n",
              "      <th>date_end</th>\n",
              "      <th>date_modif_prod</th>\n",
              "      <th>date_renewal</th>\n",
              "      <th>forecast_cons_12m</th>\n",
              "      <th>forecast_cons_year</th>\n",
              "      <th>forecast_discount_energy</th>\n",
              "      <th>forecast_meter_rent_12m</th>\n",
              "      <th>forecast_price_energy_p1</th>\n",
              "      <th>forecast_price_energy_p2</th>\n",
              "      <th>forecast_price_pow_p1</th>\n",
              "      <th>has_gas</th>\n",
              "      <th>imp_cons</th>\n",
              "      <th>margin_gross_pow_ele</th>\n",
              "      <th>margin_net_pow_ele</th>\n",
              "      <th>nb_prod_act</th>\n",
              "      <th>net_margin</th>\n",
              "      <th>num_years_antig</th>\n",
              "      <th>origin_up</th>\n",
              "      <th>pow_max</th>\n",
              "      <th>id</th>\n",
              "      <th>churn</th>\n",
              "    </tr>\n",
              "  </thead>\n",
              "  <tbody>\n",
              "    <tr>\n",
              "      <th>0</th>\n",
              "      <td>48ada52261e7cf58715202705a0451c9</td>\n",
              "      <td>309275</td>\n",
              "      <td>0</td>\n",
              "      <td>10025</td>\n",
              "      <td>2012-11-07</td>\n",
              "      <td>2016-11-06</td>\n",
              "      <td>2012-11-07</td>\n",
              "      <td>2015-11-09</td>\n",
              "      <td>26520.30</td>\n",
              "      <td>10025</td>\n",
              "      <td>0.0</td>\n",
              "      <td>359.29</td>\n",
              "      <td>0.095919</td>\n",
              "      <td>0.088347</td>\n",
              "      <td>58.995952</td>\n",
              "      <td>f</td>\n",
              "      <td>831.80</td>\n",
              "      <td>-41.76</td>\n",
              "      <td>-41.76</td>\n",
              "      <td>1</td>\n",
              "      <td>1732.36</td>\n",
              "      <td>3</td>\n",
              "      <td>ldkssxwpmemidmecebumciepifcamkci</td>\n",
              "      <td>180.000</td>\n",
              "      <td>48ada52261e7cf58715202705a0451c9</td>\n",
              "      <td>0</td>\n",
              "    </tr>\n",
              "    <tr>\n",
              "      <th>2</th>\n",
              "      <td>d29c2c54acc38ff3c0614d0a653813dd</td>\n",
              "      <td>4660</td>\n",
              "      <td>0</td>\n",
              "      <td>0</td>\n",
              "      <td>2009-08-21</td>\n",
              "      <td>2016-08-30</td>\n",
              "      <td>2009-08-21</td>\n",
              "      <td>2015-08-31</td>\n",
              "      <td>189.95</td>\n",
              "      <td>0</td>\n",
              "      <td>0.0</td>\n",
              "      <td>16.27</td>\n",
              "      <td>0.145711</td>\n",
              "      <td>0.000000</td>\n",
              "      <td>44.311378</td>\n",
              "      <td>f</td>\n",
              "      <td>0.00</td>\n",
              "      <td>16.38</td>\n",
              "      <td>16.38</td>\n",
              "      <td>1</td>\n",
              "      <td>18.89</td>\n",
              "      <td>6</td>\n",
              "      <td>kamkkxfxxuwbdslkwifmmcsiusiuosws</td>\n",
              "      <td>13.800</td>\n",
              "      <td>d29c2c54acc38ff3c0614d0a653813dd</td>\n",
              "      <td>0</td>\n",
              "    </tr>\n",
              "    <tr>\n",
              "      <th>3</th>\n",
              "      <td>764c75f661154dac3a6c254cd082ea7d</td>\n",
              "      <td>544</td>\n",
              "      <td>0</td>\n",
              "      <td>0</td>\n",
              "      <td>2010-04-16</td>\n",
              "      <td>2016-04-16</td>\n",
              "      <td>2010-04-16</td>\n",
              "      <td>2015-04-17</td>\n",
              "      <td>47.96</td>\n",
              "      <td>0</td>\n",
              "      <td>0.0</td>\n",
              "      <td>38.72</td>\n",
              "      <td>0.165794</td>\n",
              "      <td>0.087899</td>\n",
              "      <td>44.311378</td>\n",
              "      <td>f</td>\n",
              "      <td>0.00</td>\n",
              "      <td>28.60</td>\n",
              "      <td>28.60</td>\n",
              "      <td>1</td>\n",
              "      <td>6.60</td>\n",
              "      <td>6</td>\n",
              "      <td>kamkkxfxxuwbdslkwifmmcsiusiuosws</td>\n",
              "      <td>13.856</td>\n",
              "      <td>764c75f661154dac3a6c254cd082ea7d</td>\n",
              "      <td>0</td>\n",
              "    </tr>\n",
              "    <tr>\n",
              "      <th>4</th>\n",
              "      <td>bba03439a292a1e166f80264c16191cb</td>\n",
              "      <td>1584</td>\n",
              "      <td>0</td>\n",
              "      <td>0</td>\n",
              "      <td>2010-03-30</td>\n",
              "      <td>2016-03-30</td>\n",
              "      <td>2010-03-30</td>\n",
              "      <td>2015-03-31</td>\n",
              "      <td>240.04</td>\n",
              "      <td>0</td>\n",
              "      <td>0.0</td>\n",
              "      <td>19.83</td>\n",
              "      <td>0.146694</td>\n",
              "      <td>0.000000</td>\n",
              "      <td>44.311378</td>\n",
              "      <td>f</td>\n",
              "      <td>0.00</td>\n",
              "      <td>30.22</td>\n",
              "      <td>30.22</td>\n",
              "      <td>1</td>\n",
              "      <td>25.46</td>\n",
              "      <td>6</td>\n",
              "      <td>kamkkxfxxuwbdslkwifmmcsiusiuosws</td>\n",
              "      <td>13.200</td>\n",
              "      <td>bba03439a292a1e166f80264c16191cb</td>\n",
              "      <td>0</td>\n",
              "    </tr>\n",
              "    <tr>\n",
              "      <th>5</th>\n",
              "      <td>568bb38a1afd7c0fc49c77b3789b59a3</td>\n",
              "      <td>121335</td>\n",
              "      <td>0</td>\n",
              "      <td>12400</td>\n",
              "      <td>2010-04-08</td>\n",
              "      <td>2016-04-08</td>\n",
              "      <td>2010-04-08</td>\n",
              "      <td>2015-04-12</td>\n",
              "      <td>10865.02</td>\n",
              "      <td>12400</td>\n",
              "      <td>0.0</td>\n",
              "      <td>170.74</td>\n",
              "      <td>0.110083</td>\n",
              "      <td>0.093746</td>\n",
              "      <td>40.606701</td>\n",
              "      <td>f</td>\n",
              "      <td>1052.37</td>\n",
              "      <td>-3.18</td>\n",
              "      <td>-3.18</td>\n",
              "      <td>1</td>\n",
              "      <td>823.18</td>\n",
              "      <td>6</td>\n",
              "      <td>lxidpiddsbxsbosboudacockeimpuepw</td>\n",
              "      <td>75.000</td>\n",
              "      <td>568bb38a1afd7c0fc49c77b3789b59a3</td>\n",
              "      <td>0</td>\n",
              "    </tr>\n",
              "  </tbody>\n",
              "</table>\n",
              "</div>"
            ],
            "text/plain": [
              "                                 id  ...  churn\n",
              "0  48ada52261e7cf58715202705a0451c9  ...      0\n",
              "2  d29c2c54acc38ff3c0614d0a653813dd  ...      0\n",
              "3  764c75f661154dac3a6c254cd082ea7d  ...      0\n",
              "4  bba03439a292a1e166f80264c16191cb  ...      0\n",
              "5  568bb38a1afd7c0fc49c77b3789b59a3  ...      0\n",
              "\n",
              "[5 rows x 26 columns]"
            ]
          },
          "metadata": {
            "tags": []
          },
          "execution_count": 28
        }
      ]
    },
    {
      "cell_type": "code",
      "metadata": {
        "id": "rlPLPgNuiuY3",
        "colab": {
          "base_uri": "https://localhost:8080/"
        },
        "outputId": "90b8c7ca-9d1b-483f-b0db-aa1a1a5b03be"
      },
      "source": [
        "df.isna().sum()"
      ],
      "execution_count": null,
      "outputs": [
        {
          "output_type": "execute_result",
          "data": {
            "text/plain": [
              "id                            0\n",
              "cons_12m                      0\n",
              "cons_gas_12m                  0\n",
              "cons_last_month               0\n",
              "date_activ                    0\n",
              "date_end                      2\n",
              "date_modif_prod             353\n",
              "date_renewal                 40\n",
              "forecast_cons_12m             0\n",
              "forecast_cons_year            0\n",
              "forecast_discount_energy    511\n",
              "forecast_meter_rent_12m       0\n",
              "forecast_price_energy_p1    511\n",
              "forecast_price_energy_p2    511\n",
              "forecast_price_pow_p1       511\n",
              "has_gas                       0\n",
              "imp_cons                      0\n",
              "margin_gross_pow_ele         13\n",
              "margin_net_pow_ele           13\n",
              "nb_prod_act                   0\n",
              "net_margin                   15\n",
              "num_years_antig               0\n",
              "origin_up                   134\n",
              "pow_max                       3\n",
              "id                            0\n",
              "churn                         0\n",
              "dtype: int64"
            ]
          },
          "metadata": {
            "tags": []
          },
          "execution_count": 29
        }
      ]
    },
    {
      "cell_type": "code",
      "metadata": {
        "id": "QSiYKClRiwmq"
      },
      "source": [
        "df.dropna(axis=0, inplace=True)"
      ],
      "execution_count": null,
      "outputs": []
    },
    {
      "cell_type": "code",
      "metadata": {
        "id": "GBKeykb_i34b"
      },
      "source": [
        "df1=df.drop('churn', axis=1, inplace=False)"
      ],
      "execution_count": null,
      "outputs": []
    },
    {
      "cell_type": "code",
      "metadata": {
        "id": "za5WKYr-i-Bo"
      },
      "source": [
        "df3=df['churn']"
      ],
      "execution_count": null,
      "outputs": []
    },
    {
      "cell_type": "code",
      "metadata": {
        "id": "tv3uuMJdjCsi",
        "colab": {
          "base_uri": "https://localhost:8080/"
        },
        "outputId": "21cef300-c0b3-4a77-dc18-17bfab7547d7"
      },
      "source": [
        "df1.shape"
      ],
      "execution_count": null,
      "outputs": [
        {
          "output_type": "execute_result",
          "data": {
            "text/plain": [
              "(27958, 25)"
            ]
          },
          "metadata": {
            "tags": []
          },
          "execution_count": 33
        }
      ]
    },
    {
      "cell_type": "code",
      "metadata": {
        "id": "sIXcz1wYjEiv",
        "colab": {
          "base_uri": "https://localhost:8080/"
        },
        "outputId": "2359c52d-1659-4f84-d8b5-81b79ceab19e"
      },
      "source": [
        "df3.shape"
      ],
      "execution_count": null,
      "outputs": [
        {
          "output_type": "execute_result",
          "data": {
            "text/plain": [
              "(27958,)"
            ]
          },
          "metadata": {
            "tags": []
          },
          "execution_count": 34
        }
      ]
    },
    {
      "cell_type": "code",
      "metadata": {
        "id": "XUsHpwsv4B9G",
        "colab": {
          "base_uri": "https://localhost:8080/"
        },
        "outputId": "2ac9f223-073e-48fd-94fc-2170d6353e0d"
      },
      "source": [
        "df3.value_counts()"
      ],
      "execution_count": null,
      "outputs": [
        {
          "output_type": "execute_result",
          "data": {
            "text/plain": [
              "0    14154\n",
              "1    13804\n",
              "Name: churn, dtype: int64"
            ]
          },
          "metadata": {
            "tags": []
          },
          "execution_count": 35
        }
      ]
    },
    {
      "cell_type": "code",
      "metadata": {
        "id": "W3gjbPm4jFO9",
        "colab": {
          "base_uri": "https://localhost:8080/"
        },
        "outputId": "187c906d-ba4f-4f3c-8ae3-e2d2d689c238"
      },
      "source": [
        "df.duplicated().sum()"
      ],
      "execution_count": null,
      "outputs": [
        {
          "output_type": "execute_result",
          "data": {
            "text/plain": [
              "12284"
            ]
          },
          "metadata": {
            "tags": []
          },
          "execution_count": 36
        }
      ]
    },
    {
      "cell_type": "markdown",
      "metadata": {
        "id": "sZ-V2mtdjcgP"
      },
      "source": [
        "No Duplicate Value :)"
      ]
    },
    {
      "cell_type": "code",
      "metadata": {
        "id": "P3MZkG104QDC",
        "colab": {
          "base_uri": "https://localhost:8080/"
        },
        "outputId": "d7616e5c-604a-4152-d1fc-f0e53d73ee32"
      },
      "source": [
        "df['churn'].value_counts()"
      ],
      "execution_count": null,
      "outputs": [
        {
          "output_type": "execute_result",
          "data": {
            "text/plain": [
              "0    14154\n",
              "1    13804\n",
              "Name: churn, dtype: int64"
            ]
          },
          "metadata": {
            "tags": []
          },
          "execution_count": 37
        }
      ]
    },
    {
      "cell_type": "code",
      "metadata": {
        "id": "oUlYQwP6j5C7",
        "colab": {
          "base_uri": "https://localhost:8080/"
        },
        "outputId": "1fc5abd5-10ef-44bd-9c2a-55554ee4d0cb"
      },
      "source": [
        "df.nunique()"
      ],
      "execution_count": null,
      "outputs": [
        {
          "output_type": "execute_result",
          "data": {
            "text/plain": [
              "id                          15674\n",
              "cons_12m                    11745\n",
              "cons_gas_12m                 2226\n",
              "cons_last_month              5228\n",
              "date_activ                   1943\n",
              "date_end                      367\n",
              "date_modif_prod              2297\n",
              "date_renewal                  396\n",
              "forecast_cons_12m           15024\n",
              "forecast_cons_year           4813\n",
              "forecast_discount_energy       14\n",
              "forecast_meter_rent_12m      3841\n",
              "forecast_price_energy_p1      612\n",
              "forecast_price_energy_p2      409\n",
              "forecast_price_pow_p1          46\n",
              "has_gas                         2\n",
              "imp_cons                     8555\n",
              "margin_gross_pow_ele         2927\n",
              "margin_net_pow_ele           2954\n",
              "nb_prod_act                    11\n",
              "net_margin                  12897\n",
              "num_years_antig                15\n",
              "origin_up                       5\n",
              "pow_max                       842\n",
              "id                          15674\n",
              "churn                           2\n",
              "dtype: int64"
            ]
          },
          "metadata": {
            "tags": []
          },
          "execution_count": 38
        }
      ]
    },
    {
      "cell_type": "code",
      "metadata": {
        "id": "Pb9-KOsKkiGz",
        "colab": {
          "base_uri": "https://localhost:8080/"
        },
        "outputId": "ddd40e13-428d-4563-b74d-328fb6739517"
      },
      "source": [
        "df.dtypes"
      ],
      "execution_count": null,
      "outputs": [
        {
          "output_type": "execute_result",
          "data": {
            "text/plain": [
              "id                           object\n",
              "cons_12m                      int64\n",
              "cons_gas_12m                  int64\n",
              "cons_last_month               int64\n",
              "date_activ                   object\n",
              "date_end                     object\n",
              "date_modif_prod              object\n",
              "date_renewal                 object\n",
              "forecast_cons_12m           float64\n",
              "forecast_cons_year            int64\n",
              "forecast_discount_energy    float64\n",
              "forecast_meter_rent_12m     float64\n",
              "forecast_price_energy_p1    float64\n",
              "forecast_price_energy_p2    float64\n",
              "forecast_price_pow_p1       float64\n",
              "has_gas                      object\n",
              "imp_cons                    float64\n",
              "margin_gross_pow_ele        float64\n",
              "margin_net_pow_ele          float64\n",
              "nb_prod_act                   int64\n",
              "net_margin                  float64\n",
              "num_years_antig               int64\n",
              "origin_up                    object\n",
              "pow_max                     float64\n",
              "id                           object\n",
              "churn                         int64\n",
              "dtype: object"
            ]
          },
          "metadata": {
            "tags": []
          },
          "execution_count": 39
        }
      ]
    },
    {
      "cell_type": "code",
      "metadata": {
        "id": "oHpLtmAkkog8",
        "colab": {
          "base_uri": "https://localhost:8080/"
        },
        "outputId": "ecfe0c4e-e5bf-4adb-baeb-1f9a636f2538"
      },
      "source": [
        "# separating numeric columns\r\n",
        "df_numeric= df.select_dtypes(include=[np.number])\r\n",
        "numeric_cols= df_numeric.columns.values\r\n",
        "print(numeric_cols)\r\n",
        "\r\n",
        "# separating non numeric columns\r\n",
        "df_non_numeric= df.select_dtypes(exclude=[np.number])\r\n",
        "non_numeric_cols= df_non_numeric.columns.values\r\n",
        "print(non_numeric_cols)"
      ],
      "execution_count": null,
      "outputs": [
        {
          "output_type": "stream",
          "text": [
            "['cons_12m' 'cons_gas_12m' 'cons_last_month' 'forecast_cons_12m'\n",
            " 'forecast_cons_year' 'forecast_discount_energy' 'forecast_meter_rent_12m'\n",
            " 'forecast_price_energy_p1' 'forecast_price_energy_p2'\n",
            " 'forecast_price_pow_p1' 'imp_cons' 'margin_gross_pow_ele'\n",
            " 'margin_net_pow_ele' 'nb_prod_act' 'net_margin' 'num_years_antig'\n",
            " 'pow_max' 'churn']\n",
            "['id' 'date_activ' 'date_end' 'date_modif_prod' 'date_renewal' 'has_gas'\n",
            " 'origin_up' 'id']\n"
          ],
          "name": "stdout"
        }
      ]
    },
    {
      "cell_type": "code",
      "metadata": {
        "id": "mkf466Q2mAAU",
        "colab": {
          "base_uri": "https://localhost:8080/",
          "height": 439
        },
        "outputId": "9199fe21-af59-4494-bd48-9c912a6a4922"
      },
      "source": [
        "df_numeric.iloc[:,0:-1]"
      ],
      "execution_count": null,
      "outputs": [
        {
          "output_type": "execute_result",
          "data": {
            "text/html": [
              "<div>\n",
              "<style scoped>\n",
              "    .dataframe tbody tr th:only-of-type {\n",
              "        vertical-align: middle;\n",
              "    }\n",
              "\n",
              "    .dataframe tbody tr th {\n",
              "        vertical-align: top;\n",
              "    }\n",
              "\n",
              "    .dataframe thead th {\n",
              "        text-align: right;\n",
              "    }\n",
              "</style>\n",
              "<table border=\"1\" class=\"dataframe\">\n",
              "  <thead>\n",
              "    <tr style=\"text-align: right;\">\n",
              "      <th></th>\n",
              "      <th>cons_12m</th>\n",
              "      <th>cons_gas_12m</th>\n",
              "      <th>cons_last_month</th>\n",
              "      <th>forecast_cons_12m</th>\n",
              "      <th>forecast_cons_year</th>\n",
              "      <th>forecast_discount_energy</th>\n",
              "      <th>forecast_meter_rent_12m</th>\n",
              "      <th>forecast_price_energy_p1</th>\n",
              "      <th>forecast_price_energy_p2</th>\n",
              "      <th>forecast_price_pow_p1</th>\n",
              "      <th>imp_cons</th>\n",
              "      <th>margin_gross_pow_ele</th>\n",
              "      <th>margin_net_pow_ele</th>\n",
              "      <th>nb_prod_act</th>\n",
              "      <th>net_margin</th>\n",
              "      <th>num_years_antig</th>\n",
              "      <th>pow_max</th>\n",
              "    </tr>\n",
              "  </thead>\n",
              "  <tbody>\n",
              "    <tr>\n",
              "      <th>0</th>\n",
              "      <td>309275</td>\n",
              "      <td>0</td>\n",
              "      <td>10025</td>\n",
              "      <td>26520.30</td>\n",
              "      <td>10025</td>\n",
              "      <td>0.0</td>\n",
              "      <td>359.29</td>\n",
              "      <td>0.095919</td>\n",
              "      <td>0.088347</td>\n",
              "      <td>58.995952</td>\n",
              "      <td>831.80</td>\n",
              "      <td>-41.76</td>\n",
              "      <td>-41.76</td>\n",
              "      <td>1</td>\n",
              "      <td>1732.36</td>\n",
              "      <td>3</td>\n",
              "      <td>180.000</td>\n",
              "    </tr>\n",
              "    <tr>\n",
              "      <th>2</th>\n",
              "      <td>4660</td>\n",
              "      <td>0</td>\n",
              "      <td>0</td>\n",
              "      <td>189.95</td>\n",
              "      <td>0</td>\n",
              "      <td>0.0</td>\n",
              "      <td>16.27</td>\n",
              "      <td>0.145711</td>\n",
              "      <td>0.000000</td>\n",
              "      <td>44.311378</td>\n",
              "      <td>0.00</td>\n",
              "      <td>16.38</td>\n",
              "      <td>16.38</td>\n",
              "      <td>1</td>\n",
              "      <td>18.89</td>\n",
              "      <td>6</td>\n",
              "      <td>13.800</td>\n",
              "    </tr>\n",
              "    <tr>\n",
              "      <th>3</th>\n",
              "      <td>544</td>\n",
              "      <td>0</td>\n",
              "      <td>0</td>\n",
              "      <td>47.96</td>\n",
              "      <td>0</td>\n",
              "      <td>0.0</td>\n",
              "      <td>38.72</td>\n",
              "      <td>0.165794</td>\n",
              "      <td>0.087899</td>\n",
              "      <td>44.311378</td>\n",
              "      <td>0.00</td>\n",
              "      <td>28.60</td>\n",
              "      <td>28.60</td>\n",
              "      <td>1</td>\n",
              "      <td>6.60</td>\n",
              "      <td>6</td>\n",
              "      <td>13.856</td>\n",
              "    </tr>\n",
              "    <tr>\n",
              "      <th>4</th>\n",
              "      <td>1584</td>\n",
              "      <td>0</td>\n",
              "      <td>0</td>\n",
              "      <td>240.04</td>\n",
              "      <td>0</td>\n",
              "      <td>0.0</td>\n",
              "      <td>19.83</td>\n",
              "      <td>0.146694</td>\n",
              "      <td>0.000000</td>\n",
              "      <td>44.311378</td>\n",
              "      <td>0.00</td>\n",
              "      <td>30.22</td>\n",
              "      <td>30.22</td>\n",
              "      <td>1</td>\n",
              "      <td>25.46</td>\n",
              "      <td>6</td>\n",
              "      <td>13.200</td>\n",
              "    </tr>\n",
              "    <tr>\n",
              "      <th>5</th>\n",
              "      <td>121335</td>\n",
              "      <td>0</td>\n",
              "      <td>12400</td>\n",
              "      <td>10865.02</td>\n",
              "      <td>12400</td>\n",
              "      <td>0.0</td>\n",
              "      <td>170.74</td>\n",
              "      <td>0.110083</td>\n",
              "      <td>0.093746</td>\n",
              "      <td>40.606701</td>\n",
              "      <td>1052.37</td>\n",
              "      <td>-3.18</td>\n",
              "      <td>-3.18</td>\n",
              "      <td>1</td>\n",
              "      <td>823.18</td>\n",
              "      <td>6</td>\n",
              "      <td>75.000</td>\n",
              "    </tr>\n",
              "    <tr>\n",
              "      <th>...</th>\n",
              "      <td>...</td>\n",
              "      <td>...</td>\n",
              "      <td>...</td>\n",
              "      <td>...</td>\n",
              "      <td>...</td>\n",
              "      <td>...</td>\n",
              "      <td>...</td>\n",
              "      <td>...</td>\n",
              "      <td>...</td>\n",
              "      <td>...</td>\n",
              "      <td>...</td>\n",
              "      <td>...</td>\n",
              "      <td>...</td>\n",
              "      <td>...</td>\n",
              "      <td>...</td>\n",
              "      <td>...</td>\n",
              "      <td>...</td>\n",
              "    </tr>\n",
              "    <tr>\n",
              "      <th>6097</th>\n",
              "      <td>18304</td>\n",
              "      <td>0</td>\n",
              "      <td>0</td>\n",
              "      <td>2726.62</td>\n",
              "      <td>0</td>\n",
              "      <td>0.0</td>\n",
              "      <td>9.62</td>\n",
              "      <td>0.144149</td>\n",
              "      <td>0.000000</td>\n",
              "      <td>44.311378</td>\n",
              "      <td>0.00</td>\n",
              "      <td>28.45</td>\n",
              "      <td>28.45</td>\n",
              "      <td>1</td>\n",
              "      <td>284.76</td>\n",
              "      <td>3</td>\n",
              "      <td>13.856</td>\n",
              "    </tr>\n",
              "    <tr>\n",
              "      <th>15012</th>\n",
              "      <td>32386</td>\n",
              "      <td>0</td>\n",
              "      <td>0</td>\n",
              "      <td>2385.59</td>\n",
              "      <td>0</td>\n",
              "      <td>0.0</td>\n",
              "      <td>15.24</td>\n",
              "      <td>0.144058</td>\n",
              "      <td>0.000000</td>\n",
              "      <td>44.311378</td>\n",
              "      <td>0.00</td>\n",
              "      <td>6.92</td>\n",
              "      <td>6.92</td>\n",
              "      <td>1</td>\n",
              "      <td>213.90</td>\n",
              "      <td>3</td>\n",
              "      <td>10.392</td>\n",
              "    </tr>\n",
              "    <tr>\n",
              "      <th>12945</th>\n",
              "      <td>-9457</td>\n",
              "      <td>0</td>\n",
              "      <td>0</td>\n",
              "      <td>-763.47</td>\n",
              "      <td>0</td>\n",
              "      <td>0.0</td>\n",
              "      <td>0.00</td>\n",
              "      <td>0.092453</td>\n",
              "      <td>0.086393</td>\n",
              "      <td>59.173468</td>\n",
              "      <td>0.00</td>\n",
              "      <td>0.00</td>\n",
              "      <td>0.00</td>\n",
              "      <td>1</td>\n",
              "      <td>0.00</td>\n",
              "      <td>6</td>\n",
              "      <td>30.000</td>\n",
              "    </tr>\n",
              "    <tr>\n",
              "      <th>1798</th>\n",
              "      <td>42004</td>\n",
              "      <td>0</td>\n",
              "      <td>6725</td>\n",
              "      <td>4177.56</td>\n",
              "      <td>6725</td>\n",
              "      <td>0.0</td>\n",
              "      <td>133.55</td>\n",
              "      <td>0.115174</td>\n",
              "      <td>0.098837</td>\n",
              "      <td>40.606701</td>\n",
              "      <td>655.94</td>\n",
              "      <td>15.12</td>\n",
              "      <td>15.12</td>\n",
              "      <td>2</td>\n",
              "      <td>456.18</td>\n",
              "      <td>11</td>\n",
              "      <td>16.500</td>\n",
              "    </tr>\n",
              "    <tr>\n",
              "      <th>4419</th>\n",
              "      <td>3279</td>\n",
              "      <td>0</td>\n",
              "      <td>0</td>\n",
              "      <td>488.87</td>\n",
              "      <td>0</td>\n",
              "      <td>0.0</td>\n",
              "      <td>18.47</td>\n",
              "      <td>0.144902</td>\n",
              "      <td>0.000000</td>\n",
              "      <td>44.311378</td>\n",
              "      <td>0.00</td>\n",
              "      <td>19.41</td>\n",
              "      <td>19.41</td>\n",
              "      <td>1</td>\n",
              "      <td>45.14</td>\n",
              "      <td>7</td>\n",
              "      <td>13.800</td>\n",
              "    </tr>\n",
              "  </tbody>\n",
              "</table>\n",
              "<p>27958 rows × 17 columns</p>\n",
              "</div>"
            ],
            "text/plain": [
              "       cons_12m  cons_gas_12m  ...  num_years_antig  pow_max\n",
              "0        309275             0  ...                3  180.000\n",
              "2          4660             0  ...                6   13.800\n",
              "3           544             0  ...                6   13.856\n",
              "4          1584             0  ...                6   13.200\n",
              "5        121335             0  ...                6   75.000\n",
              "...         ...           ...  ...              ...      ...\n",
              "6097      18304             0  ...                3   13.856\n",
              "15012     32386             0  ...                3   10.392\n",
              "12945     -9457             0  ...                6   30.000\n",
              "1798      42004             0  ...               11   16.500\n",
              "4419       3279             0  ...                7   13.800\n",
              "\n",
              "[27958 rows x 17 columns]"
            ]
          },
          "metadata": {
            "tags": []
          },
          "execution_count": 41
        }
      ]
    },
    {
      "cell_type": "markdown",
      "metadata": {
        "id": "atKEG3av7G-x"
      },
      "source": [
        "## 2.3 Checking for feature importances"
      ]
    },
    {
      "cell_type": "code",
      "metadata": {
        "id": "JpbblXsUkzSy",
        "colab": {
          "base_uri": "https://localhost:8080/",
          "height": 316
        },
        "outputId": "bd71f0b4-2210-4d7c-d3d9-1e6ce08ce6e9"
      },
      "source": [
        "X = df_numeric.iloc[:,0:-1]  #independent columns\r\n",
        "y = df_numeric.iloc[:,-1]    #target column i.e price range\r\n",
        "from sklearn.ensemble import ExtraTreesClassifier\r\n",
        "model = ExtraTreesClassifier()\r\n",
        "model.fit(X,y)\r\n",
        "print(model.feature_importances_) #use inbuilt class feature_importances of tree based classifiers\r\n",
        "#plot graph of feature importances for better visualization\r\n",
        "feat_importances = pd.Series(model.feature_importances_, index=X.columns)\r\n",
        "feat_importances.nlargest(10).plot(kind='barh')\r\n",
        "plt.show()"
      ],
      "execution_count": null,
      "outputs": [
        {
          "output_type": "stream",
          "text": [
            "[0.08404025 0.02655076 0.06336496 0.07713222 0.05454048 0.004741\n",
            " 0.07450099 0.07083781 0.04071875 0.02973016 0.05428213 0.09347209\n",
            " 0.08796699 0.0287614  0.07995341 0.05647413 0.07293247]\n"
          ],
          "name": "stdout"
        },
        {
          "output_type": "display_data",
          "data": {
            "image/png": "[encoded data removed]",
            "text/plain": [
              "<Figure size 432x288 with 1 Axes>"
            ]
          },
          "metadata": {
            "tags": [],
            "needs_background": "light"
          }
        }
      ]
    },
    {
      "cell_type": "code",
      "metadata": {
        "id": "t1MALT18mxQm",
        "colab": {
          "base_uri": "https://localhost:8080/"
        },
        "outputId": "8a3ee8c8-12cc-47a9-ce55-625f6886504b"
      },
      "source": [
        "df_non_numeric.nunique()"
      ],
      "execution_count": null,
      "outputs": [
        {
          "output_type": "execute_result",
          "data": {
            "text/plain": [
              "id                 15674\n",
              "date_activ          1943\n",
              "date_end             367\n",
              "date_modif_prod     2297\n",
              "date_renewal         396\n",
              "has_gas                2\n",
              "origin_up              5\n",
              "id                 15674\n",
              "dtype: int64"
            ]
          },
          "metadata": {
            "tags": []
          },
          "execution_count": 43
        }
      ]
    },
    {
      "cell_type": "markdown",
      "metadata": {
        "id": "wiBRhN31nQ0g"
      },
      "source": [
        "Need to drop date columns and label encode has_gas and origin_up."
      ]
    },
    {
      "cell_type": "code",
      "metadata": {
        "id": "UBlFZn7Hm34a"
      },
      "source": [
        "from sklearn.preprocessing import LabelEncoder\r\n",
        "le= LabelEncoder()"
      ],
      "execution_count": null,
      "outputs": []
    },
    {
      "cell_type": "code",
      "metadata": {
        "id": "aJE_mv5no3Lc"
      },
      "source": [
        "df['has_gas']= le.fit_transform(df['has_gas'])\r\n",
        "df['origin_up']=le.fit_transform(df['origin_up'])"
      ],
      "execution_count": null,
      "outputs": []
    },
    {
      "cell_type": "code",
      "metadata": {
        "id": "qBp0GGvlpD7n",
        "colab": {
          "base_uri": "https://localhost:8080/"
        },
        "outputId": "cc10f374-f31a-4e1b-e23c-814bbf6977a8"
      },
      "source": [
        "df.dtypes"
      ],
      "execution_count": null,
      "outputs": [
        {
          "output_type": "execute_result",
          "data": {
            "text/plain": [
              "id                           object\n",
              "cons_12m                      int64\n",
              "cons_gas_12m                  int64\n",
              "cons_last_month               int64\n",
              "date_activ                   object\n",
              "date_end                     object\n",
              "date_modif_prod              object\n",
              "date_renewal                 object\n",
              "forecast_cons_12m           float64\n",
              "forecast_cons_year            int64\n",
              "forecast_discount_energy    float64\n",
              "forecast_meter_rent_12m     float64\n",
              "forecast_price_energy_p1    float64\n",
              "forecast_price_energy_p2    float64\n",
              "forecast_price_pow_p1       float64\n",
              "has_gas                       int64\n",
              "imp_cons                    float64\n",
              "margin_gross_pow_ele        float64\n",
              "margin_net_pow_ele          float64\n",
              "nb_prod_act                   int64\n",
              "net_margin                  float64\n",
              "num_years_antig               int64\n",
              "origin_up                     int64\n",
              "pow_max                     float64\n",
              "id                           object\n",
              "churn                         int64\n",
              "dtype: object"
            ]
          },
          "metadata": {
            "tags": []
          },
          "execution_count": 46
        }
      ]
    },
    {
      "cell_type": "markdown",
      "metadata": {
        "id": "iz0Pvi1FpdUl"
      },
      "source": [
        "## 2.4 Removing Outliers"
      ]
    },
    {
      "cell_type": "code",
      "metadata": {
        "id": "s75VQnc_pXt_",
        "colab": {
          "base_uri": "https://localhost:8080/",
          "height": 317
        },
        "outputId": "80fb80f2-b1e9-44e2-8cda-7579a7aa2c78"
      },
      "source": [
        "df.describe()"
      ],
      "execution_count": null,
      "outputs": [
        {
          "output_type": "execute_result",
          "data": {
            "text/html": [
              "<div>\n",
              "<style scoped>\n",
              "    .dataframe tbody tr th:only-of-type {\n",
              "        vertical-align: middle;\n",
              "    }\n",
              "\n",
              "    .dataframe tbody tr th {\n",
              "        vertical-align: top;\n",
              "    }\n",
              "\n",
              "    .dataframe thead th {\n",
              "        text-align: right;\n",
              "    }\n",
              "</style>\n",
              "<table border=\"1\" class=\"dataframe\">\n",
              "  <thead>\n",
              "    <tr style=\"text-align: right;\">\n",
              "      <th></th>\n",
              "      <th>cons_12m</th>\n",
              "      <th>cons_gas_12m</th>\n",
              "      <th>cons_last_month</th>\n",
              "      <th>forecast_cons_12m</th>\n",
              "      <th>forecast_cons_year</th>\n",
              "      <th>forecast_discount_energy</th>\n",
              "      <th>forecast_meter_rent_12m</th>\n",
              "      <th>forecast_price_energy_p1</th>\n",
              "      <th>forecast_price_energy_p2</th>\n",
              "      <th>forecast_price_pow_p1</th>\n",
              "      <th>has_gas</th>\n",
              "      <th>imp_cons</th>\n",
              "      <th>margin_gross_pow_ele</th>\n",
              "      <th>margin_net_pow_ele</th>\n",
              "      <th>nb_prod_act</th>\n",
              "      <th>net_margin</th>\n",
              "      <th>num_years_antig</th>\n",
              "      <th>origin_up</th>\n",
              "      <th>pow_max</th>\n",
              "      <th>churn</th>\n",
              "    </tr>\n",
              "  </thead>\n",
              "  <tbody>\n",
              "    <tr>\n",
              "      <th>count</th>\n",
              "      <td>2.795800e+04</td>\n",
              "      <td>2.795800e+04</td>\n",
              "      <td>2.795800e+04</td>\n",
              "      <td>27958.000000</td>\n",
              "      <td>27958.000000</td>\n",
              "      <td>27958.000000</td>\n",
              "      <td>27958.000000</td>\n",
              "      <td>27958.000000</td>\n",
              "      <td>27958.000000</td>\n",
              "      <td>27958.000000</td>\n",
              "      <td>27958.000000</td>\n",
              "      <td>27958.000000</td>\n",
              "      <td>27958.000000</td>\n",
              "      <td>27958.000000</td>\n",
              "      <td>27958.000000</td>\n",
              "      <td>27958.000000</td>\n",
              "      <td>27958.000000</td>\n",
              "      <td>27958.000000</td>\n",
              "      <td>27958.000000</td>\n",
              "      <td>27958.000000</td>\n",
              "    </tr>\n",
              "    <tr>\n",
              "      <th>mean</th>\n",
              "      <td>1.475913e+05</td>\n",
              "      <td>2.148839e+04</td>\n",
              "      <td>1.450110e+04</td>\n",
              "      <td>2408.720292</td>\n",
              "      <td>1955.838257</td>\n",
              "      <td>1.088633</td>\n",
              "      <td>73.383353</td>\n",
              "      <td>0.135813</td>\n",
              "      <td>0.054604</td>\n",
              "      <td>43.548755</td>\n",
              "      <td>0.167358</td>\n",
              "      <td>200.403453</td>\n",
              "      <td>24.887497</td>\n",
              "      <td>23.723758</td>\n",
              "      <td>1.302597</td>\n",
              "      <td>232.364097</td>\n",
              "      <td>4.898956</td>\n",
              "      <td>2.310573</td>\n",
              "      <td>20.724503</td>\n",
              "      <td>0.493741</td>\n",
              "    </tr>\n",
              "    <tr>\n",
              "      <th>std</th>\n",
              "      <td>5.434913e+05</td>\n",
              "      <td>1.330177e+05</td>\n",
              "      <td>6.515676e+04</td>\n",
              "      <td>4241.570683</td>\n",
              "      <td>6696.677563</td>\n",
              "      <td>5.381003</td>\n",
              "      <td>83.258987</td>\n",
              "      <td>0.025982</td>\n",
              "      <td>0.048836</td>\n",
              "      <td>4.713564</td>\n",
              "      <td>0.373302</td>\n",
              "      <td>602.754959</td>\n",
              "      <td>26.534079</td>\n",
              "      <td>30.553498</td>\n",
              "      <td>1.170943</td>\n",
              "      <td>527.159235</td>\n",
              "      <td>1.641007</td>\n",
              "      <td>0.830403</td>\n",
              "      <td>20.363356</td>\n",
              "      <td>0.499970</td>\n",
              "    </tr>\n",
              "    <tr>\n",
              "      <th>min</th>\n",
              "      <td>-1.252760e+05</td>\n",
              "      <td>-3.037000e+03</td>\n",
              "      <td>-9.138600e+04</td>\n",
              "      <td>-16689.260000</td>\n",
              "      <td>-85627.000000</td>\n",
              "      <td>0.000000</td>\n",
              "      <td>-242.960000</td>\n",
              "      <td>0.000000</td>\n",
              "      <td>0.000000</td>\n",
              "      <td>-0.122184</td>\n",
              "      <td>0.000000</td>\n",
              "      <td>-9038.210000</td>\n",
              "      <td>-525.540000</td>\n",
              "      <td>-615.660000</td>\n",
              "      <td>1.000000</td>\n",
              "      <td>-4148.990000</td>\n",
              "      <td>1.000000</td>\n",
              "      <td>0.000000</td>\n",
              "      <td>1.000000</td>\n",
              "      <td>0.000000</td>\n",
              "    </tr>\n",
              "    <tr>\n",
              "      <th>25%</th>\n",
              "      <td>5.924000e+03</td>\n",
              "      <td>0.000000e+00</td>\n",
              "      <td>0.000000e+00</td>\n",
              "      <td>509.817500</td>\n",
              "      <td>0.000000</td>\n",
              "      <td>0.000000</td>\n",
              "      <td>16.260000</td>\n",
              "      <td>0.115237</td>\n",
              "      <td>0.000000</td>\n",
              "      <td>40.606701</td>\n",
              "      <td>0.000000</td>\n",
              "      <td>0.000000</td>\n",
              "      <td>12.980000</td>\n",
              "      <td>12.820000</td>\n",
              "      <td>1.000000</td>\n",
              "      <td>52.130000</td>\n",
              "      <td>4.000000</td>\n",
              "      <td>2.000000</td>\n",
              "      <td>13.150000</td>\n",
              "      <td>0.000000</td>\n",
              "    </tr>\n",
              "    <tr>\n",
              "      <th>50%</th>\n",
              "      <td>1.536400e+04</td>\n",
              "      <td>0.000000e+00</td>\n",
              "      <td>8.280000e+02</td>\n",
              "      <td>1191.695000</td>\n",
              "      <td>376.000000</td>\n",
              "      <td>0.000000</td>\n",
              "      <td>19.780000</td>\n",
              "      <td>0.142819</td>\n",
              "      <td>0.086741</td>\n",
              "      <td>44.311378</td>\n",
              "      <td>0.000000</td>\n",
              "      <td>44.030000</td>\n",
              "      <td>22.760000</td>\n",
              "      <td>22.610000</td>\n",
              "      <td>1.000000</td>\n",
              "      <td>123.560000</td>\n",
              "      <td>5.000000</td>\n",
              "      <td>3.000000</td>\n",
              "      <td>13.856000</td>\n",
              "      <td>0.000000</td>\n",
              "    </tr>\n",
              "    <tr>\n",
              "      <th>75%</th>\n",
              "      <td>4.761300e+04</td>\n",
              "      <td>0.000000e+00</td>\n",
              "      <td>3.838000e+03</td>\n",
              "      <td>2734.000000</td>\n",
              "      <td>1973.750000</td>\n",
              "      <td>0.000000</td>\n",
              "      <td>131.760000</td>\n",
              "      <td>0.146120</td>\n",
              "      <td>0.098841</td>\n",
              "      <td>44.311378</td>\n",
              "      <td>0.000000</td>\n",
              "      <td>215.130000</td>\n",
              "      <td>31.530000</td>\n",
              "      <td>31.410000</td>\n",
              "      <td>1.000000</td>\n",
              "      <td>284.380000</td>\n",
              "      <td>6.000000</td>\n",
              "      <td>3.000000</td>\n",
              "      <td>20.000000</td>\n",
              "      <td>1.000000</td>\n",
              "    </tr>\n",
              "    <tr>\n",
              "      <th>max</th>\n",
              "      <td>1.609711e+07</td>\n",
              "      <td>4.154590e+06</td>\n",
              "      <td>4.538720e+06</td>\n",
              "      <td>103801.930000</td>\n",
              "      <td>175375.000000</td>\n",
              "      <td>50.000000</td>\n",
              "      <td>2411.690000</td>\n",
              "      <td>0.273963</td>\n",
              "      <td>0.195975</td>\n",
              "      <td>59.444710</td>\n",
              "      <td>1.000000</td>\n",
              "      <td>15042.790000</td>\n",
              "      <td>374.640000</td>\n",
              "      <td>374.640000</td>\n",
              "      <td>32.000000</td>\n",
              "      <td>24570.650000</td>\n",
              "      <td>16.000000</td>\n",
              "      <td>4.000000</td>\n",
              "      <td>500.000000</td>\n",
              "      <td>1.000000</td>\n",
              "    </tr>\n",
              "  </tbody>\n",
              "</table>\n",
              "</div>"
            ],
            "text/plain": [
              "           cons_12m  cons_gas_12m  ...       pow_max         churn\n",
              "count  2.795800e+04  2.795800e+04  ...  27958.000000  27958.000000\n",
              "mean   1.475913e+05  2.148839e+04  ...     20.724503      0.493741\n",
              "std    5.434913e+05  1.330177e+05  ...     20.363356      0.499970\n",
              "min   -1.252760e+05 -3.037000e+03  ...      1.000000      0.000000\n",
              "25%    5.924000e+03  0.000000e+00  ...     13.150000      0.000000\n",
              "50%    1.536400e+04  0.000000e+00  ...     13.856000      0.000000\n",
              "75%    4.761300e+04  0.000000e+00  ...     20.000000      1.000000\n",
              "max    1.609711e+07  4.154590e+06  ...    500.000000      1.000000\n",
              "\n",
              "[8 rows x 20 columns]"
            ]
          },
          "metadata": {
            "tags": []
          },
          "execution_count": 47
        }
      ]
    },
    {
      "cell_type": "code",
      "metadata": {
        "id": "8t6J7CzRpvJ8",
        "colab": {
          "base_uri": "https://localhost:8080/",
          "height": 428
        },
        "outputId": "bc233358-44ae-4f1c-c2c3-87d6c3127801"
      },
      "source": [
        "df.boxplot()\r\n",
        "plt.xticks(rotation=90)"
      ],
      "execution_count": null,
      "outputs": [
        {
          "output_type": "execute_result",
          "data": {
            "text/plain": [
              "(array([ 1,  2,  3,  4,  5,  6,  7,  8,  9, 10, 11, 12, 13, 14, 15, 16, 17,\n",
              "        18, 19, 20]), <a list of 20 Text major ticklabel objects>)"
            ]
          },
          "metadata": {
            "tags": []
          },
          "execution_count": 48
        },
        {
          "output_type": "display_data",
          "data": {
            "image/png": "[encoded data removed]",
            "text/plain": [
              "<Figure size 432x288 with 1 Axes>"
            ]
          },
          "metadata": {
            "tags": [],
            "needs_background": "light"
          }
        }
      ]
    },
    {
      "cell_type": "code",
      "metadata": {
        "id": "ypNEPjdRrUNL",
        "colab": {
          "base_uri": "https://localhost:8080/"
        },
        "outputId": "09958213-d76f-4b00-d632-5114cc66cec2"
      },
      "source": [
        "# separating numeric columns\r\n",
        "df_numeric= df.select_dtypes(include=[np.number])\r\n",
        "numeric_cols= df_numeric.columns.values\r\n",
        "print(numeric_cols)\r\n",
        "\r\n",
        "# separating non numeric columns\r\n",
        "df_non_numeric= df.select_dtypes(exclude=[np.number])\r\n",
        "non_numeric_cols= df_non_numeric.columns.values\r\n",
        "print(non_numeric_cols)"
      ],
      "execution_count": null,
      "outputs": [
        {
          "output_type": "stream",
          "text": [
            "['cons_12m' 'cons_gas_12m' 'cons_last_month' 'forecast_cons_12m'\n",
            " 'forecast_cons_year' 'forecast_discount_energy' 'forecast_meter_rent_12m'\n",
            " 'forecast_price_energy_p1' 'forecast_price_energy_p2'\n",
            " 'forecast_price_pow_p1' 'has_gas' 'imp_cons' 'margin_gross_pow_ele'\n",
            " 'margin_net_pow_ele' 'nb_prod_act' 'net_margin' 'num_years_antig'\n",
            " 'origin_up' 'pow_max' 'churn']\n",
            "['id' 'date_activ' 'date_end' 'date_modif_prod' 'date_renewal' 'id']\n"
          ],
          "name": "stdout"
        }
      ]
    },
    {
      "cell_type": "code",
      "metadata": {
        "id": "vTJnlqxGqAnA"
      },
      "source": [
        "from scipy import stats\r\n",
        "df=df[(np.abs(stats.zscore(df_numeric)) < 3).all(axis=1)]"
      ],
      "execution_count": null,
      "outputs": []
    },
    {
      "cell_type": "code",
      "metadata": {
        "id": "s1hD3X5CrOTs",
        "colab": {
          "base_uri": "https://localhost:8080/"
        },
        "outputId": "d3b94d43-b85c-4653-f9b5-796065dbd95d"
      },
      "source": [
        "df.shape"
      ],
      "execution_count": null,
      "outputs": [
        {
          "output_type": "execute_result",
          "data": {
            "text/plain": [
              "(23084, 26)"
            ]
          },
          "metadata": {
            "tags": []
          },
          "execution_count": 51
        }
      ]
    },
    {
      "cell_type": "code",
      "metadata": {
        "id": "3K_M72Q-rzsx",
        "colab": {
          "base_uri": "https://localhost:8080/",
          "height": 428
        },
        "outputId": "71143272-3f8f-43fb-85a9-e6bd93ffa413"
      },
      "source": [
        "df.boxplot()\r\n",
        "plt.xticks(rotation=90)"
      ],
      "execution_count": null,
      "outputs": [
        {
          "output_type": "execute_result",
          "data": {
            "text/plain": [
              "(array([ 1,  2,  3,  4,  5,  6,  7,  8,  9, 10, 11, 12, 13, 14, 15, 16, 17,\n",
              "        18, 19, 20]), <a list of 20 Text major ticklabel objects>)"
            ]
          },
          "metadata": {
            "tags": []
          },
          "execution_count": 52
        },
        {
          "output_type": "display_data",
          "data": {
            "image/png": "[encoded data removed]",
            "text/plain": [
              "<Figure size 432x288 with 1 Axes>"
            ]
          },
          "metadata": {
            "tags": [],
            "needs_background": "light"
          }
        }
      ]
    },
    {
      "cell_type": "code",
      "metadata": {
        "id": "jJEWGGB-r3eB",
        "colab": {
          "base_uri": "https://localhost:8080/",
          "height": 298
        },
        "outputId": "639a55ac-c2d2-420b-e7da-c32dbedb3011"
      },
      "source": [
        "sns.countplot(x=df['churn'])"
      ],
      "execution_count": null,
      "outputs": [
        {
          "output_type": "execute_result",
          "data": {
            "text/plain": [
              "<matplotlib.axes._subplots.AxesSubplot at 0x7fdaa7969470>"
            ]
          },
          "metadata": {
            "tags": []
          },
          "execution_count": 53
        },
        {
          "output_type": "display_data",
          "data": {
            "image/png": "[encoded data removed]",
            "text/plain": [
              "<Figure size 432x288 with 1 Axes>"
            ]
          },
          "metadata": {
            "tags": [],
            "needs_background": "light"
          }
        }
      ]
    },
    {
      "cell_type": "code",
      "metadata": {
        "id": "vUfuKB8Yu_Be",
        "colab": {
          "base_uri": "https://localhost:8080/"
        },
        "outputId": "5d6efb02-4754-4ec5-8c6b-7c7921f8b620"
      },
      "source": [
        "df.duplicated().sum()"
      ],
      "execution_count": null,
      "outputs": [
        {
          "output_type": "execute_result",
          "data": {
            "text/plain": [
              "10294"
            ]
          },
          "metadata": {
            "tags": []
          },
          "execution_count": 54
        }
      ]
    },
    {
      "cell_type": "code",
      "metadata": {
        "id": "1tmWEmdN4pET",
        "colab": {
          "base_uri": "https://localhost:8080/"
        },
        "outputId": "9a7d2307-f2f9-43cd-a636-3b3ce42d0f2c"
      },
      "source": [
        "df.drop_duplicates()['churn'].value_counts()"
      ],
      "execution_count": null,
      "outputs": [
        {
          "output_type": "execute_result",
          "data": {
            "text/plain": [
              "0    11521\n",
              "1     1269\n",
              "Name: churn, dtype: int64"
            ]
          },
          "metadata": {
            "tags": []
          },
          "execution_count": 55
        }
      ]
    },
    {
      "cell_type": "code",
      "metadata": {
        "id": "tI9vsuQ342OK"
      },
      "source": [
        "df_final= df.drop_duplicates()"
      ],
      "execution_count": null,
      "outputs": []
    },
    {
      "cell_type": "code",
      "metadata": {
        "id": "0WOkxc315EQf",
        "colab": {
          "base_uri": "https://localhost:8080/"
        },
        "outputId": "74fd48bf-cfdd-4c45-89a3-fe2d103c7b94"
      },
      "source": [
        "df_final.shape"
      ],
      "execution_count": null,
      "outputs": [
        {
          "output_type": "execute_result",
          "data": {
            "text/plain": [
              "(12790, 26)"
            ]
          },
          "metadata": {
            "tags": []
          },
          "execution_count": 57
        }
      ]
    },
    {
      "cell_type": "code",
      "metadata": {
        "id": "ybmyk-D75QLa",
        "colab": {
          "base_uri": "https://localhost:8080/"
        },
        "outputId": "0ddea06e-96d3-450f-932e-725490134a18"
      },
      "source": [
        "df_final['churn'].value_counts()"
      ],
      "execution_count": null,
      "outputs": [
        {
          "output_type": "execute_result",
          "data": {
            "text/plain": [
              "0    11521\n",
              "1     1269\n",
              "Name: churn, dtype: int64"
            ]
          },
          "metadata": {
            "tags": []
          },
          "execution_count": 58
        }
      ]
    },
    {
      "cell_type": "markdown",
      "metadata": {
        "id": "UBK2jna45ap9"
      },
      "source": [
        "# 3. Exploratory Data Analysis"
      ]
    },
    {
      "cell_type": "code",
      "metadata": {
        "id": "wlZsD4LZ5rG4",
        "colab": {
          "base_uri": "https://localhost:8080/",
          "height": 299
        },
        "outputId": "7e297aea-bd6e-433e-93f7-89b199469251"
      },
      "source": [
        "sns.countplot(x=df_final['churn'])"
      ],
      "execution_count": null,
      "outputs": [
        {
          "output_type": "execute_result",
          "data": {
            "text/plain": [
              "<matplotlib.axes._subplots.AxesSubplot at 0x7fdaa78b5dd8>"
            ]
          },
          "metadata": {
            "tags": []
          },
          "execution_count": 59
        },
        {
          "output_type": "display_data",
          "data": {
            "image/png": "[encoded data removed]",
            "text/plain": [
              "<Figure size 432x288 with 1 Axes>"
            ]
          },
          "metadata": {
            "tags": [],
            "needs_background": "light"
          }
        }
      ]
    },
    {
      "cell_type": "code",
      "metadata": {
        "id": "P0DWoiUx521I",
        "colab": {
          "base_uri": "https://localhost:8080/"
        },
        "outputId": "20660f73-8694-492d-c40c-f4642d21f745"
      },
      "source": [
        "df_final.info()"
      ],
      "execution_count": null,
      "outputs": [
        {
          "output_type": "stream",
          "text": [
            "<class 'pandas.core.frame.DataFrame'>\n",
            "Int64Index: 12790 entries, 2 to 1925\n",
            "Data columns (total 26 columns):\n",
            " #   Column                    Non-Null Count  Dtype  \n",
            "---  ------                    --------------  -----  \n",
            " 0   id                        12790 non-null  object \n",
            " 1   cons_12m                  12790 non-null  int64  \n",
            " 2   cons_gas_12m              12790 non-null  int64  \n",
            " 3   cons_last_month           12790 non-null  int64  \n",
            " 4   date_activ                12790 non-null  object \n",
            " 5   date_end                  12790 non-null  object \n",
            " 6   date_modif_prod           12790 non-null  object \n",
            " 7   date_renewal              12790 non-null  object \n",
            " 8   forecast_cons_12m         12790 non-null  float64\n",
            " 9   forecast_cons_year        12790 non-null  int64  \n",
            " 10  forecast_discount_energy  12790 non-null  float64\n",
            " 11  forecast_meter_rent_12m   12790 non-null  float64\n",
            " 12  forecast_price_energy_p1  12790 non-null  float64\n",
            " 13  forecast_price_energy_p2  12790 non-null  float64\n",
            " 14  forecast_price_pow_p1     12790 non-null  float64\n",
            " 15  has_gas                   12790 non-null  int64  \n",
            " 16  imp_cons                  12790 non-null  float64\n",
            " 17  margin_gross_pow_ele      12790 non-null  float64\n",
            " 18  margin_net_pow_ele        12790 non-null  float64\n",
            " 19  nb_prod_act               12790 non-null  int64  \n",
            " 20  net_margin                12790 non-null  float64\n",
            " 21  num_years_antig           12790 non-null  int64  \n",
            " 22  origin_up                 12790 non-null  int64  \n",
            " 23  pow_max                   12790 non-null  float64\n",
            " 24  id                        12790 non-null  object \n",
            " 25  churn                     12790 non-null  int64  \n",
            "dtypes: float64(11), int64(9), object(6)\n",
            "memory usage: 3.3+ MB\n"
          ],
          "name": "stdout"
        }
      ]
    },
    {
      "cell_type": "code",
      "metadata": {
        "id": "ajL8s9bn5ZmJ",
        "colab": {
          "base_uri": "https://localhost:8080/",
          "height": 350
        },
        "outputId": "c5b60c5a-3f98-430b-a672-59a49c3b89d7"
      },
      "source": [
        "sns.distplot(df_final['pow_max'])"
      ],
      "execution_count": null,
      "outputs": [
        {
          "output_type": "stream",
          "text": [
            "/usr/local/lib/python3.6/dist-packages/seaborn/distributions.py:2551: FutureWarning: `distplot` is a deprecated function and will be removed in a future version. Please adapt your code to use either `displot` (a figure-level function with similar flexibility) or `histplot` (an axes-level function for histograms).\n",
            "  warnings.warn(msg, FutureWarning)\n"
          ],
          "name": "stderr"
        },
        {
          "output_type": "execute_result",
          "data": {
            "text/plain": [
              "<matplotlib.axes._subplots.AxesSubplot at 0x7fdaa7889a58>"
            ]
          },
          "metadata": {
            "tags": []
          },
          "execution_count": 61
        },
        {
          "output_type": "display_data",
          "data": {
            "image/png": "[encoded data removed]",
            "text/plain": [
              "<Figure size 432x288 with 1 Axes>"
            ]
          },
          "metadata": {
            "tags": [],
            "needs_background": "light"
          }
        }
      ]
    },
    {
      "cell_type": "code",
      "metadata": {
        "id": "ky1dJHQQ6Ghi",
        "colab": {
          "base_uri": "https://localhost:8080/",
          "height": 298
        },
        "outputId": "f79f5037-7310-49b2-bda0-9c5c992ea314"
      },
      "source": [
        "sns.countplot(x=df_final['has_gas'],  hue=df_final['churn'])"
      ],
      "execution_count": null,
      "outputs": [
        {
          "output_type": "execute_result",
          "data": {
            "text/plain": [
              "<matplotlib.axes._subplots.AxesSubplot at 0x7fdaa7c237f0>"
            ]
          },
          "metadata": {
            "tags": []
          },
          "execution_count": 62
        },
        {
          "output_type": "display_data",
          "data": {
            "image/png": "[encoded data removed]",
            "text/plain": [
              "<Figure size 432x288 with 1 Axes>"
            ]
          },
          "metadata": {
            "tags": [],
            "needs_background": "light"
          }
        }
      ]
    },
    {
      "cell_type": "code",
      "metadata": {
        "id": "3S7BI8gr6Kt1",
        "colab": {
          "base_uri": "https://localhost:8080/",
          "height": 297
        },
        "outputId": "ff66b352-f75d-43e3-e107-56bca770da87"
      },
      "source": [
        "sns.countplot(x=df_final['origin_up'], hue=df_final['churn'])"
      ],
      "execution_count": null,
      "outputs": [
        {
          "output_type": "execute_result",
          "data": {
            "text/plain": [
              "<matplotlib.axes._subplots.AxesSubplot at 0x7fdaa784c668>"
            ]
          },
          "metadata": {
            "tags": []
          },
          "execution_count": 63
        },
        {
          "output_type": "display_data",
          "data": {
            "image/png": "[encoded data removed]",
            "text/plain": [
              "<Figure size 432x288 with 1 Axes>"
            ]
          },
          "metadata": {
            "tags": [],
            "needs_background": "light"
          }
        }
      ]
    },
    {
      "cell_type": "code",
      "metadata": {
        "id": "ZRv0u3Im5UER",
        "colab": {
          "base_uri": "https://localhost:8080/",
          "height": 351
        },
        "outputId": "2d364dcf-43b9-4393-c5cb-be428d2dc5f5"
      },
      "source": [
        "sns.distplot(df_final['net_margin'])"
      ],
      "execution_count": null,
      "outputs": [
        {
          "output_type": "stream",
          "text": [
            "/usr/local/lib/python3.6/dist-packages/seaborn/distributions.py:2551: FutureWarning: `distplot` is a deprecated function and will be removed in a future version. Please adapt your code to use either `displot` (a figure-level function with similar flexibility) or `histplot` (an axes-level function for histograms).\n",
            "  warnings.warn(msg, FutureWarning)\n"
          ],
          "name": "stderr"
        },
        {
          "output_type": "execute_result",
          "data": {
            "text/plain": [
              "<matplotlib.axes._subplots.AxesSubplot at 0x7fdaabfd9080>"
            ]
          },
          "metadata": {
            "tags": []
          },
          "execution_count": 64
        },
        {
          "output_type": "display_data",
          "data": {
            "image/png": "[encoded data removed]",
            "text/plain": [
              "<Figure size 432x288 with 1 Axes>"
            ]
          },
          "metadata": {
            "tags": [],
            "needs_background": "light"
          }
        }
      ]
    },
    {
      "cell_type": "code",
      "metadata": {
        "id": "AcLY9Mr66YDE",
        "colab": {
          "base_uri": "https://localhost:8080/",
          "height": 1000
        },
        "outputId": "91c7eac4-17d4-4905-ef0e-0a2a6f14d900"
      },
      "source": [
        "# Plot correlation\r\n",
        "correlation= df_final.corr()\r\n",
        "plt.figure(figsize=(19,15))\r\n",
        "sns.heatmap(correlation, xticklabels=correlation.columns.values,\r\n",
        "yticklabels=correlation.columns.values, annot = True, annot_kws={'size':10})\r\n",
        "# Axis ticks size\r\n",
        "plt.xticks(fontsize=10)\r\n",
        "plt.yticks(fontsize=10)"
      ],
      "execution_count": null,
      "outputs": [
        {
          "output_type": "execute_result",
          "data": {
            "text/plain": [
              "(array([ 0.5,  1.5,  2.5,  3.5,  4.5,  5.5,  6.5,  7.5,  8.5,  9.5, 10.5,\n",
              "        11.5, 12.5, 13.5, 14.5, 15.5, 16.5, 17.5, 18.5, 19.5]),\n",
              " <a list of 20 Text major ticklabel objects>)"
            ]
          },
          "metadata": {
            "tags": []
          },
          "execution_count": 65
        },
        {
          "output_type": "display_data",
          "data": {
            "image/png": "[encoded data removed]",
            "text/plain": [
              "<Figure size 1368x1080 with 2 Axes>"
            ]
          },
          "metadata": {
            "tags": [],
            "needs_background": "light"
          }
        }
      ]
    },
    {
      "cell_type": "markdown",
      "metadata": {
        "id": "ZsA6GVivg42O"
      },
      "source": [
        "# Modelling"
      ]
    },
    {
      "cell_type": "code",
      "metadata": {
        "id": "qvo68ApiOfVW"
      },
      "source": [
        "from sklearn.ensemble import RandomForestClassifier\r\n",
        "from sklearn.model_selection import train_test_split"
      ],
      "execution_count": null,
      "outputs": []
    },
    {
      "cell_type": "code",
      "metadata": {
        "colab": {
          "base_uri": "https://localhost:8080/"
        },
        "id": "X12IcX_ihsFc",
        "outputId": "6106069d-bff5-418d-dc39-2f703d79f2e2"
      },
      "source": [
        "# separating numeric columns\r\n",
        "df_numeric= df.select_dtypes(include=[np.number])\r\n",
        "numeric_cols= df_numeric.columns.values\r\n",
        "print(numeric_cols)"
      ],
      "execution_count": null,
      "outputs": [
        {
          "output_type": "stream",
          "text": [
            "['cons_12m' 'cons_gas_12m' 'cons_last_month' 'forecast_cons_12m'\n",
            " 'forecast_cons_year' 'forecast_discount_energy' 'forecast_meter_rent_12m'\n",
            " 'forecast_price_energy_p1' 'forecast_price_energy_p2'\n",
            " 'forecast_price_pow_p1' 'has_gas' 'imp_cons' 'margin_gross_pow_ele'\n",
            " 'margin_net_pow_ele' 'nb_prod_act' 'net_margin' 'num_years_antig'\n",
            " 'origin_up' 'pow_max' 'churn']\n"
          ],
          "name": "stdout"
        }
      ]
    },
    {
      "cell_type": "code",
      "metadata": {
        "id": "bMlPfvRjhnZe"
      },
      "source": [
        "X= df_numeric.drop('churn', axis=1)\r\n",
        "y= df_numeric['churn']"
      ],
      "execution_count": null,
      "outputs": []
    },
    {
      "cell_type": "code",
      "metadata": {
        "id": "5VvwFW9XhVZY"
      },
      "source": [
        "X_train, X_test, y_train, y_test= train_test_split(X, y, test_size=0.2, random_state=101)"
      ],
      "execution_count": null,
      "outputs": []
    },
    {
      "cell_type": "code",
      "metadata": {
        "colab": {
          "base_uri": "https://localhost:8080/"
        },
        "id": "bcSxKAIwh8Z2",
        "outputId": "636fe1b7-b358-4b4e-9e23-873f2df45d79"
      },
      "source": [
        "rfc= RandomForestClassifier(n_estimators=100)\r\n",
        "rfc.fit(X_train, y_train)"
      ],
      "execution_count": null,
      "outputs": [
        {
          "output_type": "execute_result",
          "data": {
            "text/plain": [
              "RandomForestClassifier(bootstrap=True, ccp_alpha=0.0, class_weight=None,\n",
              "                       criterion='gini', max_depth=None, max_features='auto',\n",
              "                       max_leaf_nodes=None, max_samples=None,\n",
              "                       min_impurity_decrease=0.0, min_impurity_split=None,\n",
              "                       min_samples_leaf=1, min_samples_split=2,\n",
              "                       min_weight_fraction_leaf=0.0, n_estimators=100,\n",
              "                       n_jobs=None, oob_score=False, random_state=None,\n",
              "                       verbose=0, warm_start=False)"
            ]
          },
          "metadata": {
            "tags": []
          },
          "execution_count": 72
        }
      ]
    },
    {
      "cell_type": "code",
      "metadata": {
        "colab": {
          "base_uri": "https://localhost:8080/"
        },
        "id": "7T7DZX76iCkV",
        "outputId": "c422d48b-0b9c-4cec-e552-ebe7302451d6"
      },
      "source": [
        "rfc.score(X_test, y_test)"
      ],
      "execution_count": null,
      "outputs": [
        {
          "output_type": "execute_result",
          "data": {
            "text/plain": [
              "0.9900368204461771"
            ]
          },
          "metadata": {
            "tags": []
          },
          "execution_count": 73
        }
      ]
    },
    {
      "cell_type": "code",
      "metadata": {
        "id": "IF5BdfboiMyu"
      },
      "source": [
        "y_pred= rfc.predict(X_test)"
      ],
      "execution_count": null,
      "outputs": []
    },
    {
      "cell_type": "code",
      "metadata": {
        "id": "G78_44YDiRA7"
      },
      "source": [
        "from sklearn.metrics import confusion_matrix, classification_report"
      ],
      "execution_count": null,
      "outputs": []
    },
    {
      "cell_type": "code",
      "metadata": {
        "colab": {
          "base_uri": "https://localhost:8080/"
        },
        "id": "JAsekbuOkoK5",
        "outputId": "a9941e24-71e5-4457-d3a9-d2732ee1aa62"
      },
      "source": [
        "confusion_matrix(y_test, y_pred)"
      ],
      "execution_count": null,
      "outputs": [
        {
          "output_type": "execute_result",
          "data": {
            "text/plain": [
              "array([[2327,   46],\n",
              "       [   0, 2244]])"
            ]
          },
          "metadata": {
            "tags": []
          },
          "execution_count": 76
        }
      ]
    },
    {
      "cell_type": "code",
      "metadata": {
        "colab": {
          "base_uri": "https://localhost:8080/"
        },
        "id": "1z66GHafku63",
        "outputId": "c4a6738b-cc01-4dc7-90f3-c7abe34d2203"
      },
      "source": [
        "print(classification_report(y_test, y_pred))"
      ],
      "execution_count": null,
      "outputs": [
        {
          "output_type": "stream",
          "text": [
            "              precision    recall  f1-score   support\n",
            "\n",
            "           0       1.00      0.98      0.99      2373\n",
            "           1       0.98      1.00      0.99      2244\n",
            "\n",
            "    accuracy                           0.99      4617\n",
            "   macro avg       0.99      0.99      0.99      4617\n",
            "weighted avg       0.99      0.99      0.99      4617\n",
            "\n"
          ],
          "name": "stdout"
        }
      ]
    },
    {
      "cell_type": "code",
      "metadata": {
        "id": "3ykftzsqkx9Y"
      },
      "source": [
        ""
      ],
      "execution_count": null,
      "outputs": []
    }
  ]
}